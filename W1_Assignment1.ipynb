{
 "cells": [
  {
   "cell_type": "code",
   "execution_count": null,
   "id": "9532b187-678f-4b66-8c55-61cc3addec5f",
   "metadata": {},
   "outputs": [],
   "source": [
    "# Q1"
   ]
  },
  {
   "cell_type": "code",
   "execution_count": null,
   "id": "2d5623cf-199e-4cc5-b804-e17cfc4f85fe",
   "metadata": {},
   "outputs": [],
   "source": [
    "a = \"Apurba\" #string variable\n",
    "a"
   ]
  },
  {
   "cell_type": "code",
   "execution_count": null,
   "id": "36cfbbac-54cf-4ec0-aa6b-bec7c821ac34",
   "metadata": {},
   "outputs": [],
   "source": [
    "b = [ 1 , 2 , 4.5 , \"Apurba\" , True]  #List variable\n",
    "b"
   ]
  },
  {
   "cell_type": "code",
   "execution_count": null,
   "id": "b7e76aa7-6e10-45ab-9534-b0ddf4426f76",
   "metadata": {},
   "outputs": [],
   "source": [
    "c = 5.67  #Float variable\n",
    "c"
   ]
  },
  {
   "cell_type": "code",
   "execution_count": null,
   "id": "c61751e4-5ed1-4ef0-900a-1b3b11d24bfa",
   "metadata": {},
   "outputs": [],
   "source": [
    "d = ( 3 , \"Data-science\" , [ 1 , 3.5] , False) #Tuple variable\n",
    "d"
   ]
  },
  {
   "cell_type": "code",
   "execution_count": null,
   "id": "5c3924e9-20b2-4536-90cf-d854351b51b0",
   "metadata": {},
   "outputs": [],
   "source": []
  },
  {
   "cell_type": "code",
   "execution_count": null,
   "id": "2f8aa3a9-b033-4f31-8a38-9f9dd1c236f1",
   "metadata": {},
   "outputs": [],
   "source": [
    "# Q2"
   ]
  },
  {
   "cell_type": "code",
   "execution_count": null,
   "id": "b8151c55-f905-4bb8-9d07-32665958caea",
   "metadata": {},
   "outputs": [],
   "source": [
    "var1 ='' \n",
    "type(var1)   # Data type - String"
   ]
  },
  {
   "cell_type": "code",
   "execution_count": null,
   "id": "35b90fe7-726b-4e68-b2db-b0a5924e84ab",
   "metadata": {},
   "outputs": [],
   "source": [
    "var2 = '[DS , ML , PYTHON]'  \n",
    "type(var2)   # Data type - String"
   ]
  },
  {
   "cell_type": "code",
   "execution_count": null,
   "id": "f2c2e952-ca03-486c-bd13-8a207af4e340",
   "metadata": {},
   "outputs": [],
   "source": [
    "var3 = ['DS' , 'ML' , 'PYTHON']\n",
    "type(var3)    # Data type - List"
   ]
  },
  {
   "cell_type": "code",
   "execution_count": null,
   "id": "2bd861ac-5ca2-4204-8163-d2b14cfe1bae",
   "metadata": {},
   "outputs": [],
   "source": [
    "var4 = 1\n",
    "type(var4)  # Data type - Int"
   ]
  },
  {
   "cell_type": "code",
   "execution_count": null,
   "id": "b1cd6288-8094-4b07-a91b-e71f03b67d85",
   "metadata": {},
   "outputs": [],
   "source": []
  },
  {
   "cell_type": "code",
   "execution_count": null,
   "id": "1990532d-a7e6-4432-b64b-e142ea0b7343",
   "metadata": {},
   "outputs": [],
   "source": [
    "# Q3"
   ]
  },
  {
   "cell_type": "code",
   "execution_count": null,
   "id": "9b173ede-baf2-4767-a35d-9ac9f8fb82ad",
   "metadata": {},
   "outputs": [],
   "source": [
    "num1= 10\n",
    "num2= 5"
   ]
  },
  {
   "cell_type": "code",
   "execution_count": null,
   "id": "5330d129-8e39-493f-ad3c-38477a838d27",
   "metadata": {},
   "outputs": [],
   "source": [
    "num1/num2"
   ]
  },
  {
   "cell_type": "code",
   "execution_count": null,
   "id": "ccdc88ca-2a55-43c6-8f87-3213d0fffca1",
   "metadata": {},
   "outputs": [],
   "source": [
    "num1%num2"
   ]
  },
  {
   "cell_type": "code",
   "execution_count": null,
   "id": "85778961-84d1-4526-ba10-aacc56a18c30",
   "metadata": {},
   "outputs": [],
   "source": [
    "num1//num2"
   ]
  },
  {
   "cell_type": "code",
   "execution_count": null,
   "id": "93200e24-55a7-401f-a8b6-d6a8cd622f18",
   "metadata": {},
   "outputs": [],
   "source": [
    "num1**num2"
   ]
  },
  {
   "cell_type": "code",
   "execution_count": null,
   "id": "eaaf65a5-64af-4395-a58f-71fb900c379b",
   "metadata": {},
   "outputs": [],
   "source": []
  },
  {
   "cell_type": "code",
   "execution_count": null,
   "id": "6df2ccc1-6a7d-4cd3-998f-82132d921a36",
   "metadata": {},
   "outputs": [],
   "source": [
    "# Q4"
   ]
  },
  {
   "cell_type": "code",
   "execution_count": null,
   "id": "fd4d1c7a-0868-452f-9d71-17048e486786",
   "metadata": {},
   "outputs": [],
   "source": [
    "L = [10 , 5.5 , \"hello\" , 69 , [1 , 3.2 ] , 8.8 , (9 , True) , False , 20 , \"Bye\" ]\n",
    "\n",
    "for i in L:\n",
    "    print(i)\n",
    "    print(type(i))"
   ]
  },
  {
   "cell_type": "code",
   "execution_count": null,
   "id": "b0041f6a-cd17-4f95-b9aa-6902d45145ac",
   "metadata": {},
   "outputs": [],
   "source": []
  },
  {
   "cell_type": "code",
   "execution_count": null,
   "id": "db2d8a14-8be5-4f8d-b556-8c0a02f73fd1",
   "metadata": {},
   "outputs": [],
   "source": [
    "# Q5"
   ]
  },
  {
   "cell_type": "code",
   "execution_count": null,
   "id": "bddc6744-9779-4545-a827-7619616c484b",
   "metadata": {},
   "outputs": [],
   "source": [
    "A = 1000\n",
    "B = 10\n",
    "count =0 \n",
    "\n",
    "\n",
    "if(A%B==0):\n",
    "    print(\"A is purely divisible by B\")\n",
    "    while(A/B >=1):\n",
    "        A= A/B\n",
    "        count = count+1\n",
    "    print(\"It is divisible\",count, \"times\")\n",
    "else:\n",
    "    print(\"A is not purely divisible by B\")"
   ]
  },
  {
   "cell_type": "code",
   "execution_count": null,
   "id": "d75246e2-387a-4e67-b596-0d1f513775df",
   "metadata": {},
   "outputs": [],
   "source": []
  },
  {
   "cell_type": "code",
   "execution_count": null,
   "id": "b5b1c225-fce5-4926-9cc4-7e488a153feb",
   "metadata": {},
   "outputs": [],
   "source": [
    "# Q6"
   ]
  },
  {
   "cell_type": "code",
   "execution_count": null,
   "id": "526a68fd-00cf-433b-9986-2317a1ecaa4e",
   "metadata": {},
   "outputs": [],
   "source": [
    "numbers = list(range(1,26))\n",
    "for i in numbers:\n",
    "    print(i)\n",
    "    if(i%3==0):\n",
    "        print(i , \"is divisible by 3\")\n",
    "    else:\n",
    "        print(i , \"is not divisible by 3\")\n"
   ]
  },
  {
   "cell_type": "code",
   "execution_count": null,
   "id": "cc01e00e-ffd3-4c30-9c07-d4a10aa5b9db",
   "metadata": {},
   "outputs": [],
   "source": []
  },
  {
   "cell_type": "code",
   "execution_count": null,
   "id": "2103a7d8-431e-49d6-9958-528666412338",
   "metadata": {},
   "outputs": [],
   "source": [
    "# Q7"
   ]
  },
  {
   "cell_type": "code",
   "execution_count": null,
   "id": "bcf8b4f1-2725-4019-bba3-548e3aed08bf",
   "metadata": {},
   "outputs": [],
   "source": [
    "# Mutable data types are those whose value can be changed without changing their identity :\n",
    "# Example - List\n",
    "L1 = [1 , 3 , True , 5.9]\n",
    "L1[2]= False\n",
    "L1"
   ]
  },
  {
   "cell_type": "code",
   "execution_count": null,
   "id": "e2f593fc-6383-439f-ab6e-c13b03ea32aa",
   "metadata": {},
   "outputs": [],
   "source": [
    "# Imutable data types are those whose value can'ot be changed without changing their identity :\n",
    "# Example - String\n",
    "S = \"Apurba\"\n",
    "S[2]= 'n'  # This will give an error\n",
    "S"
   ]
  },
  {
   "cell_type": "code",
   "execution_count": null,
   "id": "d20d7d83-6b15-479f-95e6-0ce4cd5e88b9",
   "metadata": {},
   "outputs": [],
   "source": []
  }
 ],
 "metadata": {
  "kernelspec": {
   "display_name": "Python 3 (ipykernel)",
   "language": "python",
   "name": "python3"
  },
  "language_info": {
   "codemirror_mode": {
    "name": "ipython",
    "version": 3
   },
   "file_extension": ".py",
   "mimetype": "text/x-python",
   "name": "python",
   "nbconvert_exporter": "python",
   "pygments_lexer": "ipython3",
   "version": "3.10.8"
  }
 },
 "nbformat": 4,
 "nbformat_minor": 5
}
