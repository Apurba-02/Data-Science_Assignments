{
 "cells": [
  {
   "cell_type": "code",
   "execution_count": null,
   "id": "b0d20ece-6604-4d6a-b7c2-54c12d0add80",
   "metadata": {},
   "outputs": [],
   "source": [
    "# Q1"
   ]
  },
  {
   "cell_type": "code",
   "execution_count": null,
   "id": "4302fcb2-180d-4c90-b8b9-16dff24ec19a",
   "metadata": {},
   "outputs": [],
   "source": [
    "\"\"\" Abstraction is used to hide the internal functionality of the function from the users. \n",
    "    The users only interact with the basic implementation of the function, but inner working is hidden.\n",
    "    \n",
    "    An abstract class can be considered as a blueprint for other classes. It allows you to create a set of\n",
    "    methods that must be created within any child classes built from the abstract class \"\"\""
   ]
  },
  {
   "cell_type": "code",
   "execution_count": 4,
   "id": "356cffc1-3375-4372-80b2-2a81b4d93fa8",
   "metadata": {},
   "outputs": [
    {
     "name": "stdout",
     "output_type": "stream",
     "text": [
      "I hace 4 sides\n",
      "RED\n",
      "I have 3 sides\n",
      "BLUE\n",
      "I have no side\n",
      "GREEN\n"
     ]
    }
   ],
   "source": [
    "# Example :\n",
    "\n",
    "import abc\n",
    "\n",
    "class shape :\n",
    "    @abc.abstractmethod\n",
    "    def sides(self):\n",
    "        pass\n",
    "    @abc.abstractmethod\n",
    "    def colour(self):\n",
    "        pass\n",
    "    \n",
    "class rectangle(shape):\n",
    "    def sides(self):\n",
    "        print(\"I hace 4 sides\")\n",
    "        \n",
    "    def colour(self):\n",
    "        print(\"RED\")\n",
    "        \n",
    "class triangle(shape):\n",
    "    def sides(self):\n",
    "        print(\"I have 3 sides\")\n",
    "        \n",
    "    def colour(self):\n",
    "        print(\"BLUE\")\n",
    "        \n",
    "class circle(shape):\n",
    "    def sides(self):\n",
    "        print(\"I have no side\")\n",
    "        \n",
    "    def colour(self):\n",
    "        print(\"GREEN\")\n",
    "        \n",
    "        \n",
    "rect = rectangle()\n",
    "tri = triangle()\n",
    "cir = circle()\n",
    "\n",
    "rect.sides()\n",
    "rect.colour()\n",
    "\n",
    "tri.sides()\n",
    "tri.colour()\n",
    "\n",
    "cir.sides()\n",
    "cir.colour()"
   ]
  },
  {
   "cell_type": "code",
   "execution_count": null,
   "id": "0eb59752-53c4-4c4a-be1b-0c3022e2c71a",
   "metadata": {},
   "outputs": [],
   "source": []
  },
  {
   "cell_type": "code",
   "execution_count": null,
   "id": "3c63d704-c7cd-4f1c-9adf-3b2986fe4ca1",
   "metadata": {},
   "outputs": [],
   "source": [
    "# Q2"
   ]
  },
  {
   "cell_type": "code",
   "execution_count": null,
   "id": "3fd2ae70-5cfc-4d93-b22b-db829f0ff4e1",
   "metadata": {},
   "outputs": [],
   "source": [
    "\"\"\" Encapsulation is data hiding(information hiding) while \n",
    "    Abstraction is detail hiding(implementation hiding).\"\"\""
   ]
  },
  {
   "cell_type": "code",
   "execution_count": 5,
   "id": "44924005-cbfe-4515-9bef-e12484cce34c",
   "metadata": {},
   "outputs": [
    {
     "data": {
      "text/plain": [
       "'Rohit'"
      ]
     },
     "execution_count": 5,
     "metadata": {},
     "output_type": "execute_result"
    }
   ],
   "source": [
    "# Encapsulation example :\n",
    "\n",
    "class employee:\n",
    "    def __init__(self , name , salary , age):\n",
    "        self.Name= name  #public\n",
    "        self.__salary = salary  # private\n",
    "        self._age = age  #protected\n",
    "        \n",
    "employ1 = employee(\"Rohit\" , 30000 , 35)\n",
    "employ1.Name "
   ]
  },
  {
   "cell_type": "code",
   "execution_count": null,
   "id": "4ff96f6c-5c40-4bf8-8fcd-c01039de4856",
   "metadata": {},
   "outputs": [],
   "source": []
  },
  {
   "cell_type": "code",
   "execution_count": null,
   "id": "c5163ab3-56d5-4ed3-b8bc-e1e5c23d38d6",
   "metadata": {},
   "outputs": [],
   "source": [
    "# q3"
   ]
  },
  {
   "cell_type": "code",
   "execution_count": null,
   "id": "801e0141-974d-444b-ba43-c21479794a70",
   "metadata": {},
   "outputs": [],
   "source": [
    "\"\"\" Python has a module called abc (abstract base class) that offers the necessary tools for creating an\n",
    "    abstract base class. \"\"\""
   ]
  },
  {
   "cell_type": "code",
   "execution_count": null,
   "id": "f1663457-4727-4d02-9c37-8889064fba64",
   "metadata": {},
   "outputs": [],
   "source": []
  },
  {
   "cell_type": "code",
   "execution_count": null,
   "id": "ac7e93c7-46cd-449d-9ba5-6087107dd353",
   "metadata": {},
   "outputs": [],
   "source": [
    "# Q4"
   ]
  },
  {
   "cell_type": "code",
   "execution_count": null,
   "id": "4e92079e-5b73-4e00-a35b-9a17b4aba7c2",
   "metadata": {},
   "outputs": [],
   "source": [
    "'''  In Python, abstraction can be achieved by having/using abstract classes and methods in our programs.\n",
    "     An abstract method is a method that is declared, but does not contain implementation.'''"
   ]
  },
  {
   "cell_type": "code",
   "execution_count": null,
   "id": "3e67f6ab-cce5-4e34-b327-94d29705ed8a",
   "metadata": {},
   "outputs": [],
   "source": []
  },
  {
   "cell_type": "code",
   "execution_count": null,
   "id": "9b306bb5-3d27-4d43-b997-ae8bbb03d39c",
   "metadata": {},
   "outputs": [],
   "source": [
    "# Q5"
   ]
  },
  {
   "cell_type": "code",
   "execution_count": null,
   "id": "3b8b503e-89db-4612-b7e7-458143c0321f",
   "metadata": {},
   "outputs": [],
   "source": [
    "''' Abstract classes are not complete, as they may have some methods that are not defined. \n",
    "    So we cannot create an instance or object of an abstract class in Python. '''"
   ]
  }
 ],
 "metadata": {
  "kernelspec": {
   "display_name": "Python 3 (ipykernel)",
   "language": "python",
   "name": "python3"
  },
  "language_info": {
   "codemirror_mode": {
    "name": "ipython",
    "version": 3
   },
   "file_extension": ".py",
   "mimetype": "text/x-python",
   "name": "python",
   "nbconvert_exporter": "python",
   "pygments_lexer": "ipython3",
   "version": "3.10.8"
  }
 },
 "nbformat": 4,
 "nbformat_minor": 5
}
