{
 "cells": [
  {
   "cell_type": "code",
   "execution_count": null,
   "id": "85625042-f69d-4be4-b5a3-a3a2e970deb3",
   "metadata": {},
   "outputs": [],
   "source": [
    "# Q1"
   ]
  },
  {
   "cell_type": "code",
   "execution_count": null,
   "id": "463ae8a4-3043-42b9-acdf-5e0ca0f18f92",
   "metadata": {},
   "outputs": [],
   "source": [
    "# def keyword is used to create a function."
   ]
  },
  {
   "cell_type": "code",
   "execution_count": null,
   "id": "ccc59c51-fd37-49aa-95c8-fbdc4e40222b",
   "metadata": {},
   "outputs": [],
   "source": [
    "def odd():\n",
    "    L1= []\n",
    "    for i in range(1,25):\n",
    "        if(i%2 !=0):\n",
    "            L1.append(i)\n",
    "    return L1\n",
    "            \n",
    "odd()       "
   ]
  },
  {
   "cell_type": "code",
   "execution_count": null,
   "id": "152d058a-74d7-4743-8cec-9fe51ec1d16d",
   "metadata": {},
   "outputs": [],
   "source": []
  },
  {
   "cell_type": "code",
   "execution_count": null,
   "id": "ad713f8b-63a4-4afe-b9c3-4b9644f6163d",
   "metadata": {},
   "outputs": [],
   "source": [
    "# Q2 "
   ]
  },
  {
   "cell_type": "code",
   "execution_count": null,
   "id": "3bfc1c2e-3e5b-429a-a432-f6fa7f4b3440",
   "metadata": {},
   "outputs": [],
   "source": [
    "# *args  and *kwargsis used to pass variable number of arguments into a function :\n",
    "# Example :\n",
    "\n",
    "def func1(*args):\n",
    "    return args \n",
    "\n",
    "def func2(**kwargs):\n",
    "    return kwargs"
   ]
  },
  {
   "cell_type": "code",
   "execution_count": null,
   "id": "54005a7f-7b22-4732-b91a-f15f43c4afa0",
   "metadata": {},
   "outputs": [],
   "source": [
    "func1(1 , 2 , 3 , 4)"
   ]
  },
  {
   "cell_type": "code",
   "execution_count": null,
   "id": "89fa7f73-ea0b-46f6-82ff-0c54a8046c95",
   "metadata": {},
   "outputs": [],
   "source": [
    "func2(name='Apurba' , age = '21' , student = True)"
   ]
  },
  {
   "cell_type": "code",
   "execution_count": null,
   "id": "da2ce2a3-02d9-412b-bb95-1cf9365813f0",
   "metadata": {},
   "outputs": [],
   "source": []
  },
  {
   "cell_type": "code",
   "execution_count": null,
   "id": "7d0b8596-4ac5-4b7a-9012-8b6a08646ea7",
   "metadata": {},
   "outputs": [],
   "source": [
    "# Q3"
   ]
  },
  {
   "cell_type": "code",
   "execution_count": null,
   "id": "0b9642bd-fa92-4257-9326-394ba9001c8d",
   "metadata": {},
   "outputs": [],
   "source": [
    "''' an iterator is an object that allows you to iterate over collections of data,\n",
    "such as lists, tuples, dictionaries, and sets. \n",
    "\n",
    " iter() is used to initialise the iterator object and\n",
    " next() is used to used for iteration.'''"
   ]
  },
  {
   "cell_type": "code",
   "execution_count": 30,
   "id": "6dc6b0a0-4fd7-4195-8a9e-c0d7ec86b87a",
   "metadata": {},
   "outputs": [
    {
     "name": "stdout",
     "output_type": "stream",
     "text": [
      "2\n",
      "4\n",
      "6\n",
      "8\n",
      "10\n"
     ]
    }
   ],
   "source": [
    "L2 = [2 , 4 , 6 , 8 , 10 , 12 , 14 , 16 , 18 , 20]\n",
    "iterator= iter(L2)\n",
    "count=0\n",
    "while(count<5):\n",
    "    print(next(iterator))\n",
    "    count= count+1\n",
    "    "
   ]
  },
  {
   "cell_type": "code",
   "execution_count": null,
   "id": "63c45b85-239a-4c02-8f89-4e4565ab3054",
   "metadata": {},
   "outputs": [],
   "source": []
  },
  {
   "cell_type": "code",
   "execution_count": null,
   "id": "dc6984d2-a04c-4f6e-b846-3d2dbf35acef",
   "metadata": {},
   "outputs": [],
   "source": [
    "# Q4"
   ]
  },
  {
   "cell_type": "code",
   "execution_count": null,
   "id": "793ea4cf-b5bf-44e8-a70b-f6fceb196b38",
   "metadata": {},
   "outputs": [],
   "source": [
    "# A Generator function in Python is a function that returns an iterator using the Yield keyword."
   ]
  },
  {
   "cell_type": "code",
   "execution_count": 33,
   "id": "1c4669f7-5311-40bd-82ff-23a080a371e6",
   "metadata": {},
   "outputs": [
    {
     "name": "stdout",
     "output_type": "stream",
     "text": [
      "0\n",
      "1\n",
      "2\n",
      "3\n",
      "4\n",
      "5\n",
      "6\n",
      "7\n",
      "8\n",
      "9\n"
     ]
    }
   ],
   "source": [
    "#Example :\n",
    "\n",
    "n=0\n",
    "def func3():\n",
    "    n= n+1\n",
    "    yield n\n",
    "    \n",
    "f = func3()\n",
    "for f in range(10):\n",
    "    print(f)\n",
    "\n",
    "    \n",
    "    \n",
    "    \n",
    "    "
   ]
  },
  {
   "cell_type": "code",
   "execution_count": null,
   "id": "c1b79af2-b8b5-4063-b7be-5d8534030fb4",
   "metadata": {},
   "outputs": [],
   "source": []
  },
  {
   "cell_type": "code",
   "execution_count": null,
   "id": "ab74d1e7-16bf-4168-834b-dfcd88c21296",
   "metadata": {},
   "outputs": [],
   "source": [
    "# Q5"
   ]
  },
  {
   "cell_type": "code",
   "execution_count": 13,
   "id": "668e7fa9-5e73-4e95-ad89-d32bb969276d",
   "metadata": {},
   "outputs": [
    {
     "name": "stdout",
     "output_type": "stream",
     "text": [
      "2\n",
      "3\n",
      "5\n",
      "7\n",
      "11\n",
      "13\n",
      "17\n",
      "19\n",
      "23\n",
      "29\n",
      "31\n",
      "37\n",
      "41\n",
      "43\n",
      "47\n",
      "53\n",
      "59\n",
      "61\n",
      "67\n",
      "71\n",
      "73\n"
     ]
    }
   ],
   "source": [
    "\n",
    "\n",
    "def prime():\n",
    "    for i in range(2,1000):\n",
    "        for j in range(2 , 1000):\n",
    "            if(i%j==0):\n",
    "                break\n",
    "        if(i==j):\n",
    "            yield i\n",
    "x = prime()\n",
    "for i in range(21):\n",
    "    print(next(x))\n",
    "\n",
    "    "
   ]
  },
  {
   "cell_type": "code",
   "execution_count": null,
   "id": "1bca1bea-792f-4381-bc95-b288e73d54bb",
   "metadata": {},
   "outputs": [],
   "source": []
  },
  {
   "cell_type": "code",
   "execution_count": null,
   "id": "a2f59a58-c43f-4d32-9a12-6024055e60a9",
   "metadata": {},
   "outputs": [],
   "source": [
    "# Q6"
   ]
  },
  {
   "cell_type": "code",
   "execution_count": 14,
   "id": "0646fb61-7dbf-44c9-99bb-5e0f31a4076f",
   "metadata": {},
   "outputs": [
    {
     "name": "stdout",
     "output_type": "stream",
     "text": [
      "0\n",
      "1\n",
      "2\n",
      "4\n",
      "8\n",
      "16\n",
      "32\n",
      "64\n",
      "128\n",
      "256\n",
      "512\n"
     ]
    }
   ],
   "source": [
    "count=0\n",
    "y  , z = 0 , 1\n",
    "while(count<=10):\n",
    "    print(y)\n",
    "    y=z\n",
    "    z=y+z\n",
    "    count= count+1\n",
    "    "
   ]
  },
  {
   "cell_type": "code",
   "execution_count": null,
   "id": "1619f744-0a52-435c-a100-5c6d0fdbea6b",
   "metadata": {},
   "outputs": [],
   "source": []
  },
  {
   "cell_type": "code",
   "execution_count": null,
   "id": "5dcb5beb-99e1-4727-9f98-35c591e60cf7",
   "metadata": {},
   "outputs": [],
   "source": [
    "# Q7"
   ]
  },
  {
   "cell_type": "code",
   "execution_count": 15,
   "id": "916bbc85-880b-4028-a68d-86232ee064bc",
   "metadata": {},
   "outputs": [
    {
     "data": {
      "text/plain": [
       "['p', 'w', 's', 'k', 'i', 'l', 'l', 's']"
      ]
     },
     "execution_count": 15,
     "metadata": {},
     "output_type": "execute_result"
    }
   ],
   "source": [
    "s ='pwskills'\n",
    "list(s)"
   ]
  },
  {
   "cell_type": "code",
   "execution_count": null,
   "id": "50cd9166-8e8a-4614-9280-582451173148",
   "metadata": {},
   "outputs": [],
   "source": []
  },
  {
   "cell_type": "code",
   "execution_count": null,
   "id": "29c92b3d-d974-4264-a537-c59528d8f33e",
   "metadata": {},
   "outputs": [],
   "source": [
    "# Q8"
   ]
  },
  {
   "cell_type": "code",
   "execution_count": 3,
   "id": "4aff68b4-b030-4df5-948e-83132fc557e9",
   "metadata": {},
   "outputs": [
    {
     "name": "stdin",
     "output_type": "stream",
     "text": [
      " 121\n"
     ]
    },
    {
     "name": "stdout",
     "output_type": "stream",
     "text": [
      "it is a palindrome\n"
     ]
    }
   ],
   "source": [
    "num = int(input())\n",
    "temp = num\n",
    "reverse=0\n",
    "while(num!=0):\n",
    "    last_digit = num%10\n",
    "    reverse = reverse*10 + last_digit\n",
    "    num = int(num/10)\n",
    "if(reverse==temp):\n",
    "    print('it is a palindrome')\n",
    "else:\n",
    "    print('it is not a palindrome')"
   ]
  },
  {
   "cell_type": "code",
   "execution_count": null,
   "id": "c2733834-84a1-4edd-993c-0d614e93fb7f",
   "metadata": {},
   "outputs": [],
   "source": []
  },
  {
   "cell_type": "code",
   "execution_count": null,
   "id": "728a70ec-b216-403a-8d14-cdc4cbb40f44",
   "metadata": {},
   "outputs": [],
   "source": [
    "# Q9"
   ]
  },
  {
   "cell_type": "code",
   "execution_count": 1,
   "id": "e361f44c-05b2-4ee7-a3cb-a6179fa5f941",
   "metadata": {},
   "outputs": [
    {
     "data": {
      "text/plain": [
       "[1,\n",
       " 3,\n",
       " 5,\n",
       " 7,\n",
       " 9,\n",
       " 11,\n",
       " 13,\n",
       " 15,\n",
       " 17,\n",
       " 19,\n",
       " 21,\n",
       " 23,\n",
       " 25,\n",
       " 27,\n",
       " 29,\n",
       " 31,\n",
       " 33,\n",
       " 35,\n",
       " 37,\n",
       " 39,\n",
       " 41,\n",
       " 43,\n",
       " 45,\n",
       " 47,\n",
       " 49,\n",
       " 51,\n",
       " 53,\n",
       " 55,\n",
       " 57,\n",
       " 59,\n",
       " 61,\n",
       " 63,\n",
       " 65,\n",
       " 67,\n",
       " 69,\n",
       " 71,\n",
       " 73,\n",
       " 75,\n",
       " 77,\n",
       " 79,\n",
       " 81,\n",
       " 83,\n",
       " 85,\n",
       " 87,\n",
       " 89,\n",
       " 91,\n",
       " 93,\n",
       " 95,\n",
       " 97,\n",
       " 99]"
      ]
     },
     "execution_count": 1,
     "metadata": {},
     "output_type": "execute_result"
    }
   ],
   "source": [
    "L3 = list(range(1,101))\n",
    "list( filter(lambda k: k%2!=0 , L3))"
   ]
  }
 ],
 "metadata": {
  "kernelspec": {
   "display_name": "Python 3 (ipykernel)",
   "language": "python",
   "name": "python3"
  },
  "language_info": {
   "codemirror_mode": {
    "name": "ipython",
    "version": 3
   },
   "file_extension": ".py",
   "mimetype": "text/x-python",
   "name": "python",
   "nbconvert_exporter": "python",
   "pygments_lexer": "ipython3",
   "version": "3.10.8"
  }
 },
 "nbformat": 4,
 "nbformat_minor": 5
}
