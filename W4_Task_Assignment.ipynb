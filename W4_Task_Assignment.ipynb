{
 "cells": [
  {
   "cell_type": "code",
   "execution_count": null,
   "id": "b6922735-f878-483c-b1be-b078b1a1ca02",
   "metadata": {},
   "outputs": [],
   "source": [
    "# Q1"
   ]
  },
  {
   "cell_type": "code",
   "execution_count": 14,
   "id": "a4c59e76-249e-45be-aa35-752d19d28ba7",
   "metadata": {},
   "outputs": [],
   "source": [
    "class vehicle:\n",
    "    def __init__(self,name,max_speed,average):\n",
    "        self.name_of_vehicle = name\n",
    "        self.max_speed = max_speed\n",
    "        self.average_of_vehicle = average\n",
    "        \n",
    "bike = vehicle( 'Bullet' , 160 , 50)"
   ]
  },
  {
   "cell_type": "code",
   "execution_count": 15,
   "id": "e1d1cdc3-e04c-4043-b105-a55d929f78a1",
   "metadata": {},
   "outputs": [
    {
     "data": {
      "text/plain": [
       "'Bullet'"
      ]
     },
     "execution_count": 15,
     "metadata": {},
     "output_type": "execute_result"
    }
   ],
   "source": [
    "bike.name_of_vehicle"
   ]
  },
  {
   "cell_type": "code",
   "execution_count": 16,
   "id": "ffcddc4f-1f3e-4904-8ec3-1a63d646d377",
   "metadata": {},
   "outputs": [
    {
     "data": {
      "text/plain": [
       "160"
      ]
     },
     "execution_count": 16,
     "metadata": {},
     "output_type": "execute_result"
    }
   ],
   "source": [
    "bike.max_speed"
   ]
  },
  {
   "cell_type": "code",
   "execution_count": 17,
   "id": "88d665a5-308e-459d-b48b-6886e1b32727",
   "metadata": {},
   "outputs": [
    {
     "data": {
      "text/plain": [
       "70"
      ]
     },
     "execution_count": 17,
     "metadata": {},
     "output_type": "execute_result"
    }
   ],
   "source": [
    "bike.average_of_vehicle "
   ]
  },
  {
   "cell_type": "code",
   "execution_count": null,
   "id": "c293a18b-2a29-4e67-9e8e-fd6ac79766bd",
   "metadata": {},
   "outputs": [],
   "source": []
  },
  {
   "cell_type": "code",
   "execution_count": null,
   "id": "ec15d99e-b406-4cae-a477-4c3e9fb84040",
   "metadata": {},
   "outputs": [],
   "source": [
    "# Q2"
   ]
  },
  {
   "cell_type": "code",
   "execution_count": 27,
   "id": "744186d7-c763-42ae-8669-7785901b372a",
   "metadata": {},
   "outputs": [
    {
     "name": "stdout",
     "output_type": "stream",
     "text": [
      "180\n"
     ]
    },
    {
     "data": {
      "text/plain": [
       "'Volvo'"
      ]
     },
     "execution_count": 27,
     "metadata": {},
     "output_type": "execute_result"
    }
   ],
   "source": [
    "class car(vehicle):\n",
    "    def seating_capacity(self , capacity):\n",
    "        print(capacity)\n",
    "        \n",
    "bus= car('Volvo' , 200 , 80)\n",
    "bus.seating_capacity(180)\n",
    "bus.name_of_vehicle\n",
    "\n",
    "\n"
   ]
  },
  {
   "cell_type": "code",
   "execution_count": null,
   "id": "230c63ff-46ac-4970-9a7b-cc6e555bd386",
   "metadata": {},
   "outputs": [],
   "source": []
  },
  {
   "cell_type": "code",
   "execution_count": null,
   "id": "5aad9f56-fd7a-4b3d-8e3c-22adfbdf41f9",
   "metadata": {},
   "outputs": [],
   "source": [
    "# Q3"
   ]
  },
  {
   "cell_type": "code",
   "execution_count": 28,
   "id": "7ecd19df-697a-4ef3-ac46-45a57aeabe99",
   "metadata": {},
   "outputs": [],
   "source": [
    "class father:\n",
    "    def func1(self):\n",
    "        print(\"It is inherited from father\")\n",
    "\n",
    "class mother:\n",
    "    def func2(self):\n",
    "        print(\"It is inherited from mother\")\n",
    "        \n",
    "class child(father , mother):\n",
    "    pass\n",
    "\n",
    "son = child()"
   ]
  },
  {
   "cell_type": "code",
   "execution_count": 30,
   "id": "5f643e11-9ec0-4dc2-8e3d-0e19dd7f9378",
   "metadata": {},
   "outputs": [
    {
     "name": "stdout",
     "output_type": "stream",
     "text": [
      "It is inherited from father\n"
     ]
    }
   ],
   "source": [
    "son.func1()"
   ]
  },
  {
   "cell_type": "code",
   "execution_count": 31,
   "id": "cc91c105-4977-4b50-8313-4538d43caf18",
   "metadata": {},
   "outputs": [
    {
     "name": "stdout",
     "output_type": "stream",
     "text": [
      "It is inherited from mother\n"
     ]
    }
   ],
   "source": [
    "son.func2()"
   ]
  },
  {
   "cell_type": "code",
   "execution_count": null,
   "id": "6d4a7c73-6c23-4888-ac95-c4e9af63c379",
   "metadata": {},
   "outputs": [],
   "source": []
  },
  {
   "cell_type": "code",
   "execution_count": null,
   "id": "2e88db1c-02c8-4094-ab89-bc13c8e20d9c",
   "metadata": {},
   "outputs": [],
   "source": [
    "# Q4"
   ]
  },
  {
   "cell_type": "code",
   "execution_count": null,
   "id": "446afe74-adc5-436d-a03e-6fa6df07459f",
   "metadata": {},
   "outputs": [],
   "source": [
    "''' Getter: A method that allows you to access an attribute in a given class.\n",
    "    Setter: A method that allows you to set or mutate the value of an attribute in a class. '''"
   ]
  },
  {
   "cell_type": "code",
   "execution_count": 10,
   "id": "0c80b992-dfea-4860-8ece-9b7b0595c5c8",
   "metadata": {},
   "outputs": [
    {
     "data": {
      "text/plain": [
       "85"
      ]
     },
     "execution_count": 10,
     "metadata": {},
     "output_type": "execute_result"
    }
   ],
   "source": [
    "class student:\n",
    "    def __init__(self ,name, marks):\n",
    "        self.__student_name = name\n",
    "        self.__marks = marks\n",
    "        \n",
    "    @property\n",
    "    def get_marks(self):\n",
    "        return self.__marks\n",
    "    @get_marks.setter\n",
    "    def set_marks(self , new_marks):\n",
    "        self.__marks = new_marks\n",
    "\n",
    "        \n",
    "student1= student('Apurba' , 85)\n",
    "student1.get_marks"
   ]
  },
  {
   "cell_type": "code",
   "execution_count": 13,
   "id": "5302c728-e217-4b1d-a8d0-3f5f69adb293",
   "metadata": {},
   "outputs": [
    {
     "data": {
      "text/plain": [
       "95"
      ]
     },
     "execution_count": 13,
     "metadata": {},
     "output_type": "execute_result"
    }
   ],
   "source": [
    "student1.set_marks=95\n",
    "student1.get_marks"
   ]
  },
  {
   "cell_type": "code",
   "execution_count": null,
   "id": "e16a7009-2576-46d1-97c1-e7890e8daad6",
   "metadata": {},
   "outputs": [],
   "source": []
  },
  {
   "cell_type": "code",
   "execution_count": null,
   "id": "d3c0d5c1-d23d-4c5f-bfcc-ea2346c9b934",
   "metadata": {},
   "outputs": [],
   "source": [
    "# Q5"
   ]
  },
  {
   "cell_type": "code",
   "execution_count": null,
   "id": "e603032c-7e76-4159-b23b-9951600863f4",
   "metadata": {},
   "outputs": [],
   "source": [
    "''' Method overriding in Python is when you have two methods with the same name that each perform different \n",
    "    tasks. This is an important feature of inheritance in Python.\n",
    "    In method overriding, the child class can change its functions that are defined by its ancestral classes.'''"
   ]
  },
  {
   "cell_type": "code",
   "execution_count": 21,
   "id": "04c9fc01-b46a-4524-bfc0-ead92ad7a316",
   "metadata": {},
   "outputs": [
    {
     "name": "stdout",
     "output_type": "stream",
     "text": [
      "Red\n",
      "Blue\n"
     ]
    }
   ],
   "source": [
    "class pen:\n",
    "    def __init__(self):\n",
    "        self.__value = 'Red'\n",
    "    def colour(self):\n",
    "        print (self.__value)\n",
    "            \n",
    "class ink(pen):\n",
    "    def __init__(self):\n",
    "        self.__value = 'Blue'\n",
    "    def colour(self):\n",
    "        print(self.__value)\n",
    "            \n",
    "obj1 = pen()\n",
    "obj2 = ink()\n",
    "obj1.colour()\n",
    "obj2.colour()\n",
    "    \n",
    "    "
   ]
  }
 ],
 "metadata": {
  "kernelspec": {
   "display_name": "Python 3 (ipykernel)",
   "language": "python",
   "name": "python3"
  },
  "language_info": {
   "codemirror_mode": {
    "name": "ipython",
    "version": 3
   },
   "file_extension": ".py",
   "mimetype": "text/x-python",
   "name": "python",
   "nbconvert_exporter": "python",
   "pygments_lexer": "ipython3",
   "version": "3.10.8"
  }
 },
 "nbformat": 4,
 "nbformat_minor": 5
}
