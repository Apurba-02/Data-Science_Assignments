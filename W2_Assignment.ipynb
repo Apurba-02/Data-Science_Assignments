{
 "cells": [
  {
   "cell_type": "code",
   "execution_count": null,
   "id": "0cc61dbd-90cc-47ec-9b25-513fe4b04b8a",
   "metadata": {},
   "outputs": [],
   "source": [
    "# Q1"
   ]
  },
  {
   "cell_type": "code",
   "execution_count": null,
   "id": "57c5ccaa-73ce-48d3-ba1a-92af9dcbfe1f",
   "metadata": {},
   "outputs": [],
   "source": [
    "''' In python there are two type of comments :\n",
    "1) Multiple line comment\n",
    "2) Single line comment\n",
    "\n",
    "This is a Multi- line comment'''\n",
    "\n",
    "##This is a single line comment"
   ]
  },
  {
   "cell_type": "code",
   "execution_count": null,
   "id": "2aaf666e-2003-4916-b1fe-ff6ee9c1ecaa",
   "metadata": {},
   "outputs": [],
   "source": []
  },
  {
   "cell_type": "code",
   "execution_count": null,
   "id": "dd49642e-47cc-4b0a-af63-437ec7d56756",
   "metadata": {},
   "outputs": [],
   "source": [
    "# Q2"
   ]
  },
  {
   "cell_type": "code",
   "execution_count": null,
   "id": "d8e71d4a-73e8-473c-90e4-f846a3d7563c",
   "metadata": {},
   "outputs": [],
   "source": [
    "\"\"\" Python Variable is containers that store values. \n",
    "    A Python variable is a name given to a memory location. \"\"\"\n",
    "    \n",
    "\n",
    "# Example:\n",
    "P = 'Python'  # Here P is a variable"
   ]
  },
  {
   "cell_type": "code",
   "execution_count": null,
   "id": "fbd80dec-93dc-4148-8be9-b042f33e5f98",
   "metadata": {},
   "outputs": [],
   "source": []
  },
  {
   "cell_type": "code",
   "execution_count": null,
   "id": "36398a06-43e8-49e7-abfe-d998c8d0c5ea",
   "metadata": {},
   "outputs": [],
   "source": [
    "# Q3"
   ]
  },
  {
   "cell_type": "code",
   "execution_count": null,
   "id": "b0abccc1-f0e6-4533-9539-a1b46bd1b0b7",
   "metadata": {},
   "outputs": [],
   "source": [
    "# In python we convert onr data type to another by type casting.\n",
    "# Example : converting Float to Int -\n",
    "a =5.678\n",
    "int(a)"
   ]
  },
  {
   "cell_type": "code",
   "execution_count": null,
   "id": "f33415ae-e352-4309-93cb-c7bbc9d54d99",
   "metadata": {},
   "outputs": [],
   "source": []
  },
  {
   "cell_type": "code",
   "execution_count": null,
   "id": "94cc094b-e1e7-4430-bf07-df9a40ae3cbe",
   "metadata": {},
   "outputs": [],
   "source": [
    "# Q4"
   ]
  },
  {
   "cell_type": "code",
   "execution_count": null,
   "id": "3d3aaf3d-fe3b-4ed2-97f4-25076902e92d",
   "metadata": {},
   "outputs": [],
   "source": [
    "''' To run Python scripts with the python command, you need to open a command-line and type in the word python ,\n",
    "    or python3 if you have both versions, followed by the path to your script, just like this: \n",
    "    $ python3 hello.py Hello World! If everything works okay, after you press Enter , \n",
    "    you'll see the phrase Hello World '''"
   ]
  },
  {
   "cell_type": "code",
   "execution_count": null,
   "id": "b2b95982-8d16-4ed3-8446-0f396f155a69",
   "metadata": {},
   "outputs": [],
   "source": []
  },
  {
   "cell_type": "code",
   "execution_count": null,
   "id": "7aa8860b-d683-4d3f-8ce3-bebf83f1dc3e",
   "metadata": {},
   "outputs": [],
   "source": [
    "# Q5"
   ]
  },
  {
   "cell_type": "code",
   "execution_count": null,
   "id": "5412b113-4eb8-41aa-a160-09dfe63d5e84",
   "metadata": {},
   "outputs": [],
   "source": [
    "my_list =[1 , 2 ,  3 , 4 ,5]\n",
    "my_list[1:3]"
   ]
  },
  {
   "cell_type": "code",
   "execution_count": null,
   "id": "2f3ebdc7-4ccc-4eaf-8c35-b07d525a9ff0",
   "metadata": {},
   "outputs": [],
   "source": []
  },
  {
   "cell_type": "code",
   "execution_count": null,
   "id": "b7d71172-d99b-4ef9-af80-f5d1c4875c3d",
   "metadata": {},
   "outputs": [],
   "source": [
    "# Q6"
   ]
  },
  {
   "cell_type": "code",
   "execution_count": null,
   "id": "85dfd6f7-8456-4a0c-95da-c4978a5428a0",
   "metadata": {},
   "outputs": [],
   "source": [
    "# Complex numbers are those which has two parts 'Real' and 'Imaginary'.\n",
    "# In python complex numbers are represented as :\n",
    "\n",
    "com = 5 + 10j\n",
    "type(com)"
   ]
  },
  {
   "cell_type": "code",
   "execution_count": null,
   "id": "47355b23-5d5c-4aa8-a76c-8d2b140dc33a",
   "metadata": {},
   "outputs": [],
   "source": []
  },
  {
   "cell_type": "code",
   "execution_count": null,
   "id": "fbf733e8-511a-4326-9203-d9dfe1b44ae7",
   "metadata": {},
   "outputs": [],
   "source": [
    "# Q7"
   ]
  },
  {
   "cell_type": "code",
   "execution_count": null,
   "id": "7d3624ed-c729-41d0-b0e1-98fa77dbb2a4",
   "metadata": {},
   "outputs": [],
   "source": [
    "age = 25\n",
    "age"
   ]
  },
  {
   "cell_type": "code",
   "execution_count": null,
   "id": "c42f17d0-0130-4e05-ac6e-eb354b0692bb",
   "metadata": {},
   "outputs": [],
   "source": []
  },
  {
   "cell_type": "code",
   "execution_count": null,
   "id": "0d312458-02ae-4b7b-b2b2-490334c12cd4",
   "metadata": {},
   "outputs": [],
   "source": [
    "# Q8"
   ]
  },
  {
   "cell_type": "code",
   "execution_count": null,
   "id": "d5309f1a-fb61-4050-8a30-bf0dd2a64e1f",
   "metadata": {},
   "outputs": [],
   "source": [
    "price  = 9.99  # Data type - Float\n",
    "type(price)"
   ]
  },
  {
   "cell_type": "code",
   "execution_count": null,
   "id": "3146b57a-394e-4707-9258-5fbe8b7526a1",
   "metadata": {},
   "outputs": [],
   "source": []
  },
  {
   "cell_type": "code",
   "execution_count": null,
   "id": "291d1683-97c9-437a-8021-316a2c3fd6f3",
   "metadata": {},
   "outputs": [],
   "source": [
    "# Q9"
   ]
  },
  {
   "cell_type": "code",
   "execution_count": null,
   "id": "681b3c71-74b2-415a-84f0-1f15eedff70a",
   "metadata": {},
   "outputs": [],
   "source": [
    "name = 'Apurba Maji'\n",
    "print(name)"
   ]
  },
  {
   "cell_type": "code",
   "execution_count": null,
   "id": "16bd5e9e-717a-4844-ab80-49de6fa24cb4",
   "metadata": {},
   "outputs": [],
   "source": []
  },
  {
   "cell_type": "code",
   "execution_count": null,
   "id": "4544f1c8-4c9b-4da0-b6dd-9652fa2ced82",
   "metadata": {},
   "outputs": [],
   "source": [
    "# Q10"
   ]
  },
  {
   "cell_type": "code",
   "execution_count": null,
   "id": "c1e1e50f-e7af-4351-89c1-3ade3976b2aa",
   "metadata": {},
   "outputs": [],
   "source": [
    "x = 'Hello, World!'\n",
    "x[7:12]"
   ]
  },
  {
   "cell_type": "code",
   "execution_count": null,
   "id": "34eb7059-1523-43fe-aade-bef8f8932e54",
   "metadata": {},
   "outputs": [],
   "source": []
  },
  {
   "cell_type": "code",
   "execution_count": null,
   "id": "d9595860-c26a-45b8-b534-9fa35abd3ff4",
   "metadata": {},
   "outputs": [],
   "source": [
    "# Q11"
   ]
  },
  {
   "cell_type": "code",
   "execution_count": null,
   "id": "3dfd2dde-56f7-46da-b89a-62a29ee03c44",
   "metadata": {},
   "outputs": [],
   "source": [
    "is_student = True\n",
    "is_student"
   ]
  }
 ],
 "metadata": {
  "kernelspec": {
   "display_name": "Python 3 (ipykernel)",
   "language": "python",
   "name": "python3"
  },
  "language_info": {
   "codemirror_mode": {
    "name": "ipython",
    "version": 3
   },
   "file_extension": ".py",
   "mimetype": "text/x-python",
   "name": "python",
   "nbconvert_exporter": "python",
   "pygments_lexer": "ipython3",
   "version": "3.10.8"
  }
 },
 "nbformat": 4,
 "nbformat_minor": 5
}
