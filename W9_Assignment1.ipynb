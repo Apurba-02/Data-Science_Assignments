{
 "cells": [
  {
   "cell_type": "code",
   "execution_count": 11,
   "id": "392c0009-6a8e-40d7-9e36-1daa16022c1b",
   "metadata": {},
   "outputs": [],
   "source": [
    "import numpy as np"
   ]
  },
  {
   "cell_type": "code",
   "execution_count": null,
   "id": "054e0149-07dd-4f89-a89e-0bba1619d852",
   "metadata": {},
   "outputs": [],
   "source": [
    "list_ = [ '1' , '2' , '3' , '4' , '5' ]\n",
    "array_list = np.array(object = list_)"
   ]
  },
  {
   "cell_type": "code",
   "execution_count": null,
   "id": "ce16b20d-afb7-4387-9ee2-1b002262d711",
   "metadata": {},
   "outputs": [],
   "source": [
    "# Q1 :-"
   ]
  },
  {
   "cell_type": "markdown",
   "id": "1a9ca80b-bc26-47b1-8b77-a688ed1499bc",
   "metadata": {},
   "source": [
    "NO, there is  no difference in the data type of variables list_ and array_list:"
   ]
  },
  {
   "cell_type": "code",
   "execution_count": 9,
   "id": "6ac3008b-0966-46de-9008-8982c151529b",
   "metadata": {},
   "outputs": [
    {
     "name": "stdout",
     "output_type": "stream",
     "text": [
      "<class 'list'>\n",
      "<class 'numpy.ndarray'>\n"
     ]
    }
   ],
   "source": [
    "print(type(list_))\n",
    "print(type(array_list))"
   ]
  },
  {
   "cell_type": "code",
   "execution_count": null,
   "id": "b96cc537-c627-436a-bb14-70202311c88b",
   "metadata": {},
   "outputs": [],
   "source": []
  },
  {
   "cell_type": "code",
   "execution_count": null,
   "id": "7fa0f4f8-c70a-4402-ba33-6123ade24556",
   "metadata": {},
   "outputs": [],
   "source": [
    "# Q2 :-"
   ]
  },
  {
   "cell_type": "code",
   "execution_count": null,
   "id": "95bdb49f-f94e-46d8-affe-b41bfd9f1b16",
   "metadata": {},
   "outputs": [],
   "source": []
  },
  {
   "cell_type": "code",
   "execution_count": 23,
   "id": "0336394b-5265-4afb-aae5-3726249d9439",
   "metadata": {},
   "outputs": [
    {
     "name": "stdout",
     "output_type": "stream",
     "text": [
      "<U1\n",
      "[<class 'str'>, <class 'str'>, <class 'str'>, <class 'str'>, <class 'str'>]\n"
     ]
    }
   ],
   "source": [
    "print(array_list.dtype)\n",
    "print(list(map(lambda x: type(x), list_)))"
   ]
  },
  {
   "cell_type": "code",
   "execution_count": null,
   "id": "bfa70553-50cd-4b89-8970-d1be274c07ea",
   "metadata": {},
   "outputs": [],
   "source": []
  },
  {
   "cell_type": "code",
   "execution_count": null,
   "id": "3da639c9-18ec-41e8-9334-1b53dc0f2739",
   "metadata": {},
   "outputs": [],
   "source": [
    "# Q3 :-"
   ]
  },
  {
   "cell_type": "code",
   "execution_count": 25,
   "id": "899a1570-eaef-48ec-9921-bffb174b7e8a",
   "metadata": {},
   "outputs": [
    {
     "name": "stdout",
     "output_type": "stream",
     "text": [
      "int64\n",
      "[<class 'str'>, <class 'str'>, <class 'str'>, <class 'str'>, <class 'str'>]\n"
     ]
    }
   ],
   "source": [
    "array_list = np.array(object = list_, dtype = int)\n",
    "\n",
    "print(array_list.dtype)\n",
    "print(list(map(lambda x: type(x), list_)))"
   ]
  },
  {
   "cell_type": "markdown",
   "id": "a17620d8-5849-48a9-946d-1d64a5207ca6",
   "metadata": {},
   "source": [
    "Yes, there will  be difference in the data type of the elements present in the variables, list_ and\n",
    "arra_list."
   ]
  },
  {
   "cell_type": "code",
   "execution_count": null,
   "id": "4f6c8b13-12aa-42e5-9394-d583e4027550",
   "metadata": {},
   "outputs": [],
   "source": []
  },
  {
   "cell_type": "code",
   "execution_count": null,
   "id": "22cf75d8-60e2-478d-8e36-52565f1b70e1",
   "metadata": {},
   "outputs": [],
   "source": [
    "# Q4 :-"
   ]
  },
  {
   "cell_type": "code",
   "execution_count": 26,
   "id": "06d979ff-e478-42fc-a2a6-772e23f13e4c",
   "metadata": {},
   "outputs": [],
   "source": [
    "num_list = [ [ 1 , 2 , 3 ] , [ 4 , 5 , 6 ] ]\n",
    "num_array = np.array(object = num_list)"
   ]
  },
  {
   "cell_type": "code",
   "execution_count": 29,
   "id": "c5a464f0-5f94-4f7c-814c-6835bcb6d39f",
   "metadata": {},
   "outputs": [
    {
     "name": "stdout",
     "output_type": "stream",
     "text": [
      "(2, 3)\n",
      "6\n"
     ]
    }
   ],
   "source": [
    "print(np.shape(num_array))\n",
    "print(np.size(num_array))"
   ]
  },
  {
   "cell_type": "code",
   "execution_count": null,
   "id": "5c8e7cef-9192-48f6-93fc-a24944b2dac3",
   "metadata": {},
   "outputs": [],
   "source": []
  },
  {
   "cell_type": "code",
   "execution_count": null,
   "id": "65ecf08f-55bf-42e2-a1fe-ef8007219b26",
   "metadata": {},
   "outputs": [],
   "source": [
    "# Q5 :-"
   ]
  },
  {
   "cell_type": "code",
   "execution_count": 33,
   "id": "69b2f914-898e-4789-b777-495c3a81021b",
   "metadata": {},
   "outputs": [
    {
     "name": "stdout",
     "output_type": "stream",
     "text": [
      "[[0. 0. 0.]\n",
      " [0. 0. 0.]\n",
      " [0. 0. 0.]]\n"
     ]
    }
   ],
   "source": [
    "zero_array = np.zeros((3,3))\n",
    "print(zero_array)"
   ]
  },
  {
   "cell_type": "code",
   "execution_count": null,
   "id": "17264048-5631-47c4-9edd-00fd33df1240",
   "metadata": {},
   "outputs": [],
   "source": []
  },
  {
   "cell_type": "code",
   "execution_count": null,
   "id": "36220f2f-1725-44f2-81bc-f2aff9dd0e2b",
   "metadata": {},
   "outputs": [],
   "source": [
    "# Q6 :-"
   ]
  },
  {
   "cell_type": "code",
   "execution_count": 35,
   "id": "bfb72b27-5762-4190-9b8d-7e8c146cbfb9",
   "metadata": {},
   "outputs": [
    {
     "name": "stdout",
     "output_type": "stream",
     "text": [
      "[[1. 0. 0. 0. 0.]\n",
      " [0. 1. 0. 0. 0.]\n",
      " [0. 0. 1. 0. 0.]\n",
      " [0. 0. 0. 1. 0.]\n",
      " [0. 0. 0. 0. 1.]]\n"
     ]
    }
   ],
   "source": [
    "identity_mat = np.eye(5,5)\n",
    "print(identity_mat)"
   ]
  },
  {
   "cell_type": "code",
   "execution_count": null,
   "id": "03967c27-6ea0-408c-8a03-a664ea241274",
   "metadata": {},
   "outputs": [],
   "source": []
  }
 ],
 "metadata": {
  "kernelspec": {
   "display_name": "Python 3 (ipykernel)",
   "language": "python",
   "name": "python3"
  },
  "language_info": {
   "codemirror_mode": {
    "name": "ipython",
    "version": 3
   },
   "file_extension": ".py",
   "mimetype": "text/x-python",
   "name": "python",
   "nbconvert_exporter": "python",
   "pygments_lexer": "ipython3",
   "version": "3.10.8"
  }
 },
 "nbformat": 4,
 "nbformat_minor": 5
}
