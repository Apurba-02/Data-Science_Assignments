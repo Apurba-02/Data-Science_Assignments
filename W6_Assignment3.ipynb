{
 "cells": [
  {
   "cell_type": "code",
   "execution_count": null,
   "id": "8decf252-5fa1-479f-9561-f982a96b27c7",
   "metadata": {},
   "outputs": [],
   "source": [
    "# Q1"
   ]
  },
  {
   "cell_type": "markdown",
   "id": "e324a8ab-544b-47ad-a48a-5c181779baa4",
   "metadata": {},
   "source": [
    "API stands for application programming interface.APIs are mechanisms that enable two software components to communicate with each other using a set of definitions and protocols. \n",
    "\n",
    "For example, the weather bureau's software system contains daily weather data. The weather app on your phone “talks” to this system via APIs and shows you daily weather updates on your phone."
   ]
  },
  {
   "cell_type": "code",
   "execution_count": null,
   "id": "1352a665-c8c2-4480-9065-8da392edf3b5",
   "metadata": {},
   "outputs": [],
   "source": []
  },
  {
   "cell_type": "code",
   "execution_count": null,
   "id": "bc802819-28a8-4aa5-baca-5d5a26d0dedb",
   "metadata": {},
   "outputs": [],
   "source": [
    "# Q2"
   ]
  },
  {
   "cell_type": "markdown",
   "id": "a147bb61-898c-48b1-ac23-b2b8a54bfdcd",
   "metadata": {},
   "source": [
    "Advantages:\n",
    "\n",
    "1) Improved Efficiency: API driven infrastructures enable developers to reuse code and functionality from existing software systems, saving time and reducing the amount of code that needs to be written from scratch.\n",
    "\n",
    "2) Better User Experience: APIs can enable third-party developers to create applications that integrate with existing software systems, providing a better user experience and increased functionality.\n",
    "\n",
    "3) Increased Flexibility: APIs provide developers with greater flexibility, enabling them to choose the best programming languages and frameworks for their needs.\n",
    "\n",
    "\n",
    "Disadvantages:\n",
    "\n",
    "1) Security Concerns: API infrastructures can be vulnerable to security breaches, such as SQL injection attacks and cross-site scripting (XSS) attacks, making it crucial to implement security measures to protect against these threats.\n",
    "\n",
    "2) Complexity: APIs can be complex, requiring a significant amount of development effort to implement and maintain.\n",
    "\n",
    "3) Governance and Management: APIs require proper governance and management to ensure they are being used correctly and consistently across different applications and systems.\n",
    "    "
   ]
  },
  {
   "cell_type": "code",
   "execution_count": null,
   "id": "18aaf5e7-2b72-419e-a4d0-c8697a780e2f",
   "metadata": {},
   "outputs": [],
   "source": []
  },
  {
   "cell_type": "code",
   "execution_count": null,
   "id": "72c1bbf4-1020-469a-a6a8-3d6c84c5109f",
   "metadata": {},
   "outputs": [],
   "source": [
    "# Q3"
   ]
  },
  {
   "cell_type": "markdown",
   "id": "9eda2c4a-78bb-4194-8824-d40c35cd07a1",
   "metadata": {},
   "source": [
    "Web API is an API as the name suggests, it can be accessed over the web using the HTTP protocol. It is a framework that helps you to create and develop HTTP based RESTFUL services. The web API can be developed by using different technologies such as java, ASP.NET, etc. Web API is used in either a web server or a web browser.\n",
    "\n",
    "In summary, while API is a broader term referring to a general set of rules and protocols for software communication, a Web API specifically refers to an API that is designed to be accessed over the internet using web technologies such as HTTP. Web APIs are commonly used to enable communication between different software systems or to provide access to web-based services."
   ]
  },
  {
   "cell_type": "code",
   "execution_count": null,
   "id": "0ce0d0ca-655e-415f-91d9-b24d19c2b90c",
   "metadata": {},
   "outputs": [],
   "source": []
  },
  {
   "cell_type": "code",
   "execution_count": null,
   "id": "a6d5a0a4-c0b2-450a-8b61-17157baf3e6d",
   "metadata": {},
   "outputs": [],
   "source": [
    "# Q4"
   ]
  },
  {
   "cell_type": "markdown",
   "id": "ff8bb554-1591-4748-b7c4-b7090a215096",
   "metadata": {},
   "source": [
    "REST (Representational State Transfer) and SOAP (Simple Object Access Protocol) are two architectural styles used for designing web services. Here's an explanation of each:\n",
    "\n",
    "REST:\n",
    "REST is an architectural style that emphasizes simplicity, scalability, and statelessness in web services. It is commonly used in the development of APIs. RESTful web services are built around a few key principles:\n",
    "\n",
    "Statelessness: Each request from a client to a server should contain all the necessary information to fulfill that request. The server does not need to maintain any information about the client's state between requests.\n",
    "\n",
    "Resources: REST treats everything as a resource, which can be identified by a unique URL (Uniform Resource Locator). Resources are manipulated using standard HTTP methods such as GET, POST, PUT, and DELETE.\n",
    "\n",
    "Representation: Resources can have multiple representations such as JSON, XML, or HTML. The client and server can negotiate the representation format based on the request's \"Accept\" header.\n",
    "\n",
    "Uniform Interface: REST uses a consistent set of well-defined methods (GET, POST, PUT, DELETE) to interact with resources. It also adheres to the hypermedia principle, which means the server can provide links to related resources to guide clients.\n",
    "\n",
    "SOAP:\n",
    "SOAP is a protocol used for exchanging structured information in web services. It relies on XML for data representation and uses various protocols for communication, such as HTTP, SMTP, or others. SOAP-based web services have the following characteristics:\n",
    "\n",
    "XML-Based: SOAP messages are encoded in XML format, making them platform and language independent.\n",
    "\n",
    "Protocol-Independent: SOAP can be used with various transport protocols, including HTTP, SMTP, and more. This flexibility allows SOAP to work across different network infrastructures.\n",
    "\n",
    "Extensibility: SOAP allows for the definition and use of extensions using SOAP headers. This feature enables the addition of custom functionality and application-specific features.\n",
    "\n",
    "WSDL: Web Services Description Language (WSDL) is used to describe SOAP-based web services. WSDL provides a standardized way to define the structure of a web service, including its operations, message formats, and network protocols."
   ]
  },
  {
   "cell_type": "code",
   "execution_count": null,
   "id": "0d97560c-d670-47f5-abe6-9163c5eee404",
   "metadata": {},
   "outputs": [],
   "source": []
  },
  {
   "cell_type": "code",
   "execution_count": null,
   "id": "a096566b-0afa-417e-b759-f887406e0928",
   "metadata": {},
   "outputs": [],
   "source": [
    "# Q5"
   ]
  },
  {
   "cell_type": "markdown",
   "id": "a16af0c9-c326-496b-9d8b-633ff3a60bee",
   "metadata": {},
   "source": [
    "REST and SOAP are two different architectural styles and protocols used for designing web services. Here's a comparison of their key characteristics:\n",
    "\n",
    "Communication Style:\n",
    "\n",
    "REST (Representational State Transfer): REST is based on a stateless, client-server communication model. Clients interact with resources on the server using standard HTTP methods like GET, POST, PUT, and DELETE.\n",
    "SOAP (Simple Object Access Protocol): SOAP follows a more complex messaging protocol. It uses XML-based messages for communication, which can be transferred over various protocols like HTTP, SMTP, or others.\n",
    "Data Format:\n",
    "\n",
    "REST: REST commonly uses lightweight data formats like JSON (JavaScript Object Notation) or XML (eXtensible Markup Language) for data representation.\n",
    "SOAP: SOAP messages are always XML-based, providing a structured and extensible format for data exchange.\n",
    "Ease of Use:\n",
    "\n",
    "REST: REST APIs are generally considered easier to use and understand due to their simplicity and the use of standard HTTP methods. They require less overhead for development and are more developer-friendly.\n",
    "SOAP: SOAP APIs are typically more complex and require additional tooling and libraries to work with. The XML-based structure and the need for specific SOAP libraries make it more challenging for some developers.\n",
    "Scalability:\n",
    "\n",
    "REST: RESTful services are highly scalable due to their statelessness and the ability to leverage HTTP caching mechanisms. They can handle a large number of clients and scale well in distributed architectures.\n",
    "SOAP: SOAP services are less scalable due to their stateful nature. The state management and additional processing overhead make it more challenging to scale SOAP-based services.\n",
    "Standards and Features:\n",
    "\n",
    "REST: REST does not enforce any specific standards or protocols beyond the principles of the architectural style. It provides flexibility in terms of choosing the appropriate standards for authentication, security, and other requirements.\n",
    "SOAP: SOAP has a set of standardized protocols and specifications, such as WS-Security, WS-ReliableMessaging, and WS-AtomicTransaction. These standards provide advanced features for security, reliability, and transaction management.\n",
    "Performance:\n",
    "\n",
    "REST: RESTful services generally have better performance due to their lightweight nature, simpler data formats, and the ability to leverage caching mechanisms provided by HTTP.\n",
    "SOAP: SOAP services are typically slower due to the additional processing overhead required for parsing XML, enforcing security standards, and supporting more complex messaging protocols."
   ]
  }
 ],
 "metadata": {
  "kernelspec": {
   "display_name": "Python 3 (ipykernel)",
   "language": "python",
   "name": "python3"
  },
  "language_info": {
   "codemirror_mode": {
    "name": "ipython",
    "version": 3
   },
   "file_extension": ".py",
   "mimetype": "text/x-python",
   "name": "python",
   "nbconvert_exporter": "python",
   "pygments_lexer": "ipython3",
   "version": "3.10.8"
  }
 },
 "nbformat": 4,
 "nbformat_minor": 5
}
