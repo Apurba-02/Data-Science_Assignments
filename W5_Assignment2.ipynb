{
 "cells": [
  {
   "cell_type": "code",
   "execution_count": null,
   "id": "87287523-3f04-4c60-ad01-ca5ec6be1175",
   "metadata": {},
   "outputs": [],
   "source": [
    "# Q1"
   ]
  },
  {
   "cell_type": "markdown",
   "id": "f9303d09-377b-4479-8a22-025711325f77",
   "metadata": {},
   "source": [
    "\"\"\" In Python, the Exception class is the base class for all built-in exceptions.\n",
    "    When creating a custom exception, it is recommended to derive it from the Exception class\n",
    "    or one of its subclasses.\n",
    "    \n",
    "    By deriving our custom exception from the Exception class, we inherit all the necessary \n",
    "    functionality and behavior of the base class. This means our custom exception can leverage \n",
    "    the existing exception handling mechanisms in Python.\"\"\""
   ]
  },
  {
   "cell_type": "code",
   "execution_count": null,
   "id": "ff2a1c7c-76d9-4ca4-95f3-79eeb38319fa",
   "metadata": {},
   "outputs": [],
   "source": []
  },
  {
   "cell_type": "code",
   "execution_count": null,
   "id": "5d44226b-84c7-4d6b-84c9-6996c3f45c36",
   "metadata": {},
   "outputs": [],
   "source": [
    "# Q2"
   ]
  },
  {
   "cell_type": "code",
   "execution_count": null,
   "id": "2a2df2f4-9cdd-4cd9-92b3-3c162af76000",
   "metadata": {},
   "outputs": [],
   "source": [
    "import inspect\n",
    "print(\"The class hierarchy for built-in exceptions is:\")\n",
    "inspect.getclasstree(inspect.getmro(Exception))\n",
    "def classtree(cls, indent=0):\n",
    "    print('.' * indent, cls.__name__)\n",
    "    for subcls in cls.__subclasses__():\n",
    "        classtree(subcls, indent + 3)\n",
    "classtree(Exception)"
   ]
  },
  {
   "cell_type": "code",
   "execution_count": null,
   "id": "d2b659a9-6801-47ef-ad52-0a7914c586f9",
   "metadata": {},
   "outputs": [],
   "source": []
  },
  {
   "cell_type": "code",
   "execution_count": null,
   "id": "ff225a18-f0b3-4444-979d-e91a6bc2de59",
   "metadata": {},
   "outputs": [],
   "source": [
    "# Q3"
   ]
  },
  {
   "cell_type": "markdown",
   "id": "d3b12fff-38bb-495e-af83-9e01797eae23",
   "metadata": {},
   "source": [
    "''' Errors that are defined in the ArithmeticError class are:\n",
    "    1)  FloatingPointError\n",
    "    2)  OverflowError\n",
    "    3)  ZeroDivisionError '''"
   ]
  },
  {
   "cell_type": "code",
   "execution_count": 6,
   "id": "cf884054-e3ab-470d-a4fd-7b1787770571",
   "metadata": {},
   "outputs": [
    {
     "name": "stdout",
     "output_type": "stream",
     "text": [
      "division by zero  :  ZeroDivisionError\n"
     ]
    }
   ],
   "source": [
    "# Example 1 :\n",
    "\n",
    "a = 7\n",
    "try:\n",
    "    a/0\n",
    "except ArithmeticError as e:\n",
    "    print(e ,\" : \" ,type(e).__name__)"
   ]
  },
  {
   "cell_type": "code",
   "execution_count": 9,
   "id": "eab5de99-b477-4b11-88c9-001310adcd61",
   "metadata": {},
   "outputs": [
    {
     "name": "stdout",
     "output_type": "stream",
     "text": [
      "float division by zero  :  ZeroDivisionError\n"
     ]
    }
   ],
   "source": [
    "# Example 2:\n",
    "\n",
    "b= 45.67\n",
    "\n",
    "try:\n",
    "    b/0.0\n",
    "except ArithmeticError as e:\n",
    "    print(e , \" : \" ,type(e).__name__)"
   ]
  },
  {
   "cell_type": "code",
   "execution_count": null,
   "id": "22b493d0-899d-42b0-82e6-7326eadd1732",
   "metadata": {},
   "outputs": [],
   "source": []
  },
  {
   "cell_type": "code",
   "execution_count": null,
   "id": "2f89d839-a17e-4c31-9813-6b9163fe7c17",
   "metadata": {},
   "outputs": [],
   "source": [
    "# Q4"
   ]
  },
  {
   "cell_type": "markdown",
   "id": "f65391be-640f-46ed-b9d0-5c7d24f2af0f",
   "metadata": {},
   "source": [
    "''' LookupError Exception is the Base class for errors raised when something can't be found. \n",
    "    The base class for the exceptions that are raised when a key or index used on a mapping or \n",
    "    sequence is invalid '''"
   ]
  },
  {
   "cell_type": "code",
   "execution_count": 19,
   "id": "e7b81955-0556-47e0-a80e-72797e25dddd",
   "metadata": {},
   "outputs": [
    {
     "name": "stdout",
     "output_type": "stream",
     "text": [
      "'DOB'  :  KeyError\n"
     ]
    }
   ],
   "source": [
    "''' KeyError: Raised when a dictionary key is not found.\n",
    "\n",
    "    Example : '''\n",
    "\n",
    "info = {\"name\": \"Apurba\" , \"roll\" : 12345 , \"age\": 20}\n",
    "try:\n",
    "    print(info['DOB'])\n",
    "except LookupError as e:\n",
    "    print(e , \" : \" , type(e).__name__ )\n"
   ]
  },
  {
   "cell_type": "code",
   "execution_count": 20,
   "id": "9ad3a0d4-5b62-4567-bda2-4bce033d892c",
   "metadata": {},
   "outputs": [
    {
     "name": "stdout",
     "output_type": "stream",
     "text": [
      "list index out of range  :  IndexError\n"
     ]
    }
   ],
   "source": [
    "''' IndexError: Raised when an index is out of range for a sequence \n",
    "    (e.g., accessing a non-existent index of a list or tuple).\n",
    "    \n",
    "    Example : '''\n",
    "\n",
    "l = [1 , 2 , 3 , 4 ,5]\n",
    "try:\n",
    "    print(l[10])\n",
    "except LookupError as e:\n",
    "    print(e , \" : \" , type(e).__name__ )\n",
    "    "
   ]
  },
  {
   "cell_type": "code",
   "execution_count": null,
   "id": "84792869-6fbb-41d7-80a6-8d59f84631d1",
   "metadata": {},
   "outputs": [],
   "source": []
  },
  {
   "cell_type": "code",
   "execution_count": null,
   "id": "953e1920-b1f3-4851-aab1-56033b627a46",
   "metadata": {},
   "outputs": [],
   "source": [
    "# Q5"
   ]
  },
  {
   "cell_type": "markdown",
   "id": "629110b5-42a1-427c-a070-450a29b845ef",
   "metadata": {},
   "source": [
    "''' The ImportError exception in Python is raised when an import statement fails to locate and import a module or a specific object \n",
    "    from a module. It is a subclass of the built-in Exception class. '''"
   ]
  },
  {
   "cell_type": "code",
   "execution_count": 21,
   "id": "f30fc300-2b65-4bfa-917a-54420329c2d0",
   "metadata": {},
   "outputs": [
    {
     "name": "stdout",
     "output_type": "stream",
     "text": [
      "No module named 'undefined_module'  :  ModuleNotFoundError\n"
     ]
    }
   ],
   "source": [
    "'''  ModuleNotFoundError : If the specified module cannot be found in the current Python environment, an ImportError is raised.\n",
    "    This can happen if the module is not installed or if the module's name is misspelled.\n",
    "    \n",
    "    Example : '''\n",
    "\n",
    "try:\n",
    "    import undefined_module\n",
    "except ModuleNotFoundError as e:\n",
    "    print(e , \" : \" , type(e).__name__)"
   ]
  },
  {
   "cell_type": "code",
   "execution_count": null,
   "id": "da8f4558-48cd-40d9-840e-99a9ed2ee03b",
   "metadata": {},
   "outputs": [],
   "source": []
  },
  {
   "cell_type": "code",
   "execution_count": null,
   "id": "8f3b547d-2cbe-4a45-88bb-543cd3613f66",
   "metadata": {},
   "outputs": [],
   "source": [
    "# Q6"
   ]
  },
  {
   "cell_type": "markdown",
   "id": "93e5c5ff-0ad7-41e2-9f7b-c28f7507d5dc",
   "metadata": {},
   "source": [
    "\"\"\" \n",
    "    Here are some best practices for exception handling in Python:\n",
    "\n",
    "1)  Be specific in exception handling: Catch exceptions that you expect and can handle explicitly, rather than using a broad exception\n",
    "    clause that catches all exceptions. This helps in maintaining code clarity and avoids unintentionally catching and hiding unrelated exceptions.\n",
    "\n",
    "2)  Use multiple except clauses: If you need to handle different exceptions differently, use separate except clauses for each exception.\n",
    "    This allows you to provide specific handling logic for each exception type.\n",
    "\n",
    "3)  Use finally for cleanup: When necessary, use the finally clause to define cleanup code that should always run, regardless of whether an\n",
    "    exception occurred or not. This ensures that resources are properly released or any necessary cleanup operations are performed.\n",
    "\n",
    "4)  Avoid empty except clauses: Avoid using empty except clauses (except without specifying any exception type). This can hide errors and make it\n",
    "    difficult to diagnose and fix issues. Always handle exceptions or at least log them for debugging purposes.\n",
    "\n",
    "5)  Handle exceptions at the appropriate level: Handle exceptions at the appropriate level in your code hierarchy. Avoid catching exceptions too broadly in a way that may obscure the actual cause of the error. Catch exceptions where you can handle them effectively or where you need to perform specific error handling actions.\n",
    "\n",
    "6)  Provide helpful error messages: When raising or catching exceptions, include informative error messages that provide enough context to understand the cause of the error. This helps with debugging and makes it easier to diagnose and fix issues.\n",
    "\n",
    "7)  Use context managers (with statement): Use context managers (with statement) when working with resources that need to be properly managed, such as file handling or database connections. Context managers ensure that resources are automatically released, even in the presence of exceptions, by using the __enter__ and __exit__ methods.\n",
    "\n",
    "8)  Use specific exception types: Use specific built-in exception types whenever possible, as they provide more descriptive information about the type of error that occurred. This helps in better understanding and handling of exceptions.\n",
    "\n",
    "9)  Log exceptions: Consider logging exceptions instead of printing them directly. Proper logging allows for better error tracking, monitoring, and debugging. Use a logging library such as the built-in logging module to log exceptions.\n",
    "\n",
    "10)  Follow Python's exception naming conventions: When creating custom exceptions, follow Python's exception naming conventions by ending the exception class name with \"Error\". This helps in distinguishing exceptions from other classes and promotes code readability and consistency.\n",
    "\"\"\""
   ]
  }
 ],
 "metadata": {
  "kernelspec": {
   "display_name": "Python 3 (ipykernel)",
   "language": "python",
   "name": "python3"
  },
  "language_info": {
   "codemirror_mode": {
    "name": "ipython",
    "version": 3
   },
   "file_extension": ".py",
   "mimetype": "text/x-python",
   "name": "python",
   "nbconvert_exporter": "python",
   "pygments_lexer": "ipython3",
   "version": "3.10.8"
  }
 },
 "nbformat": 4,
 "nbformat_minor": 5
}
