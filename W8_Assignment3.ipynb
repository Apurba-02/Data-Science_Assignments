{
 "cells": [
  {
   "cell_type": "code",
   "execution_count": 1,
   "id": "f9ae060f-472c-48c0-b8ac-044fd16eebae",
   "metadata": {},
   "outputs": [],
   "source": [
    "import pandas as pd"
   ]
  },
  {
   "cell_type": "code",
   "execution_count": null,
   "id": "33a8696b-6b79-4a48-959f-84d3a6b0f006",
   "metadata": {},
   "outputs": [],
   "source": [
    "pip install pandas"
   ]
  },
  {
   "cell_type": "code",
   "execution_count": null,
   "id": "aa34d4cd-9466-4e95-9146-ae3ea2b1d00b",
   "metadata": {},
   "outputs": [],
   "source": []
  },
  {
   "cell_type": "code",
   "execution_count": null,
   "id": "017b2144-11cd-4027-9892-c01a77104c9d",
   "metadata": {},
   "outputs": [],
   "source": [
    "# Q1"
   ]
  },
  {
   "cell_type": "code",
   "execution_count": 20,
   "id": "86be375b-c9b1-4386-a133-d93c6d1925b9",
   "metadata": {},
   "outputs": [],
   "source": [
    "course_name = ['Data Science', 'Machine Learning', 'Big Data', 'Data Engineer']\n",
    "duration = [2,3,6,4]\n",
    "df = pd.DataFrame(data = {'course_name' : course_name, 'duration' : duration})"
   ]
  },
  {
   "cell_type": "code",
   "execution_count": 21,
   "id": "8ea9536e-b4bd-4977-b298-79b9e4e6c53c",
   "metadata": {},
   "outputs": [
    {
     "data": {
      "text/plain": [
       "course_name    Machine Learning\n",
       "duration                      3\n",
       "Name: 1, dtype: object"
      ]
     },
     "execution_count": 21,
     "metadata": {},
     "output_type": "execute_result"
    }
   ],
   "source": [
    "df.iloc[1]"
   ]
  },
  {
   "cell_type": "code",
   "execution_count": null,
   "id": "c0ac60bb-8e30-411b-a01a-37e914a644d1",
   "metadata": {},
   "outputs": [],
   "source": []
  },
  {
   "cell_type": "code",
   "execution_count": null,
   "id": "bdf2cba7-998a-4cc9-9523-15ed1f7bb480",
   "metadata": {},
   "outputs": [],
   "source": [
    "# Q2"
   ]
  },
  {
   "cell_type": "markdown",
   "id": "0a05d871-1fea-449b-99d0-dc259bc0ab3c",
   "metadata": {},
   "source": [
    "loc (label-based selection):\n",
    "loc is used for label-based indexing, meaning you can use row and column labels to access data. The syntax for loc is df.loc[row_label, column_label].\n",
    "\n",
    "iloc (integer-location-based selection):\n",
    "iloc is used for integer-location based indexing, where you use integer positions to access data. The syntax for iloc is df.iloc[row_position, column_position]."
   ]
  },
  {
   "cell_type": "code",
   "execution_count": null,
   "id": "29ca89eb-0077-4fbe-8e9e-512a80ebc4a2",
   "metadata": {},
   "outputs": [],
   "source": []
  },
  {
   "cell_type": "code",
   "execution_count": null,
   "id": "c36df3ea-9b4f-4f66-80aa-ff9c8263b631",
   "metadata": {},
   "outputs": [],
   "source": [
    "# Q3"
   ]
  },
  {
   "cell_type": "code",
   "execution_count": 31,
   "id": "303a7bc2-7d71-4409-9f40-b0c284c4ef92",
   "metadata": {},
   "outputs": [
    {
     "name": "stdout",
     "output_type": "stream",
     "text": [
      "        course_name  duration\n",
      "3     Data Engineer         4\n",
      "0      Data Science         2\n",
      "1  Machine Learning         3\n",
      "2          Big Data         6 \n",
      "\n",
      "course_name    Big Data\n",
      "duration              6\n",
      "Name: 2, dtype: object \n",
      "\n",
      "course_name    Machine Learning\n",
      "duration                      3\n",
      "Name: 1, dtype: object\n"
     ]
    }
   ],
   "source": [
    "new_df = df.reindex([3,0,1,2])\n",
    "print(new_df , '\\n')\n",
    "print(new_df.loc[2],'\\n')\n",
    "print(new_df.iloc[2])"
   ]
  },
  {
   "cell_type": "markdown",
   "id": "cd286aba-ddb4-42f4-b275-6575643798d3",
   "metadata": {},
   "source": [
    "EXPLANATION: \n",
    "\n",
    "loc is used for label-based indexing, meaning you can use row and column labels to access data.\n",
    "\n",
    "iloc is used for integer-location based indexing, where you use integer positions to access data. "
   ]
  },
  {
   "cell_type": "code",
   "execution_count": null,
   "id": "888e11f4-f64d-47cd-b0b0-b808543474b4",
   "metadata": {},
   "outputs": [],
   "source": []
  },
  {
   "cell_type": "code",
   "execution_count": null,
   "id": "ec98171d-7d59-43bb-9a4c-8e2d73125335",
   "metadata": {},
   "outputs": [],
   "source": [
    "# Q4"
   ]
  },
  {
   "cell_type": "code",
   "execution_count": 45,
   "id": "19f50808-f6b4-4665-aa88-f47b8634b132",
   "metadata": {},
   "outputs": [
    {
     "data": {
      "text/html": [
       "<div>\n",
       "<style scoped>\n",
       "    .dataframe tbody tr th:only-of-type {\n",
       "        vertical-align: middle;\n",
       "    }\n",
       "\n",
       "    .dataframe tbody tr th {\n",
       "        vertical-align: top;\n",
       "    }\n",
       "\n",
       "    .dataframe thead th {\n",
       "        text-align: right;\n",
       "    }\n",
       "</style>\n",
       "<table border=\"1\" class=\"dataframe\">\n",
       "  <thead>\n",
       "    <tr style=\"text-align: right;\">\n",
       "      <th></th>\n",
       "      <th>column_1</th>\n",
       "      <th>column_2</th>\n",
       "      <th>column_3</th>\n",
       "      <th>column_4</th>\n",
       "      <th>column_5</th>\n",
       "      <th>column_6</th>\n",
       "    </tr>\n",
       "  </thead>\n",
       "  <tbody>\n",
       "    <tr>\n",
       "      <th>1</th>\n",
       "      <td>0.692862</td>\n",
       "      <td>0.157264</td>\n",
       "      <td>0.410203</td>\n",
       "      <td>0.343387</td>\n",
       "      <td>0.668319</td>\n",
       "      <td>0.042393</td>\n",
       "    </tr>\n",
       "    <tr>\n",
       "      <th>2</th>\n",
       "      <td>0.619177</td>\n",
       "      <td>0.867042</td>\n",
       "      <td>0.169332</td>\n",
       "      <td>0.600227</td>\n",
       "      <td>0.797169</td>\n",
       "      <td>0.680686</td>\n",
       "    </tr>\n",
       "    <tr>\n",
       "      <th>3</th>\n",
       "      <td>0.772663</td>\n",
       "      <td>0.316310</td>\n",
       "      <td>0.163441</td>\n",
       "      <td>0.748039</td>\n",
       "      <td>0.684182</td>\n",
       "      <td>0.546657</td>\n",
       "    </tr>\n",
       "    <tr>\n",
       "      <th>4</th>\n",
       "      <td>0.743100</td>\n",
       "      <td>0.347155</td>\n",
       "      <td>0.580949</td>\n",
       "      <td>0.536002</td>\n",
       "      <td>0.469836</td>\n",
       "      <td>0.627120</td>\n",
       "    </tr>\n",
       "    <tr>\n",
       "      <th>5</th>\n",
       "      <td>0.723225</td>\n",
       "      <td>0.959477</td>\n",
       "      <td>0.295976</td>\n",
       "      <td>0.876739</td>\n",
       "      <td>0.158444</td>\n",
       "      <td>0.679442</td>\n",
       "    </tr>\n",
       "    <tr>\n",
       "      <th>6</th>\n",
       "      <td>0.466850</td>\n",
       "      <td>0.114437</td>\n",
       "      <td>0.361456</td>\n",
       "      <td>0.042099</td>\n",
       "      <td>0.806281</td>\n",
       "      <td>0.095137</td>\n",
       "    </tr>\n",
       "  </tbody>\n",
       "</table>\n",
       "</div>"
      ],
      "text/plain": [
       "   column_1  column_2  column_3  column_4  column_5  column_6\n",
       "1  0.692862  0.157264  0.410203  0.343387  0.668319  0.042393\n",
       "2  0.619177  0.867042  0.169332  0.600227  0.797169  0.680686\n",
       "3  0.772663  0.316310  0.163441  0.748039  0.684182  0.546657\n",
       "4  0.743100  0.347155  0.580949  0.536002  0.469836  0.627120\n",
       "5  0.723225  0.959477  0.295976  0.876739  0.158444  0.679442\n",
       "6  0.466850  0.114437  0.361456  0.042099  0.806281  0.095137"
      ]
     },
     "execution_count": 45,
     "metadata": {},
     "output_type": "execute_result"
    }
   ],
   "source": [
    "import numpy as np\n",
    "columns = ['column_1', 'column_2', 'column_3', 'column_4', 'column_5', 'column_6']\n",
    "indices = [1,2,3,4,5,6]\n",
    "#Creating a dataframe:\n",
    "df1 = pd.DataFrame(np.random.rand(6,6), columns = columns, index = indices)\n",
    "df1"
   ]
  },
  {
   "cell_type": "code",
   "execution_count": 46,
   "id": "b6e03367-ac52-4a07-a871-585cb48d40e0",
   "metadata": {},
   "outputs": [
    {
     "name": "stdout",
     "output_type": "stream",
     "text": [
      "column_1    0.669646\n",
      "column_2    0.460281\n",
      "column_3    0.330226\n",
      "column_4    0.524416\n",
      "column_5    0.597372\n",
      "column_6    0.445239\n",
      "dtype: float64 \n",
      "\n",
      "0.3632087075959871\n"
     ]
    }
   ],
   "source": [
    "print(df1.mean(),\"\\n\")\n",
    "print(df1['column_2'].std())"
   ]
  },
  {
   "cell_type": "code",
   "execution_count": null,
   "id": "afc08ec2-0b08-4dea-bd4b-b04d9b9ea924",
   "metadata": {},
   "outputs": [],
   "source": []
  },
  {
   "cell_type": "code",
   "execution_count": null,
   "id": "daa26058-3211-4a85-972e-5887631e33cc",
   "metadata": {},
   "outputs": [],
   "source": [
    "# Q5"
   ]
  },
  {
   "cell_type": "code",
   "execution_count": 53,
   "id": "c7de6ae4-fe48-4440-8d8b-5fcb26d2f198",
   "metadata": {},
   "outputs": [
    {
     "name": "stdout",
     "output_type": "stream",
     "text": [
      "unsupported operand type(s) for +: 'float' and 'str'\n"
     ]
    }
   ],
   "source": [
    "df1.loc[2 ,'column_2'] =\"Apurba\" \n",
    "try:\n",
    "    print(df1['column_2'].mean())\n",
    "except Exception as e:\n",
    "    print(e)"
   ]
  },
  {
   "cell_type": "markdown",
   "id": "326eb874-be81-42ef-8962-621c3528925d",
   "metadata": {},
   "source": [
    "EXPLANATION:\n",
    "\n",
    "The function mean() don't support  string values. "
   ]
  },
  {
   "cell_type": "code",
   "execution_count": null,
   "id": "f77135a6-3974-41f9-8c8a-49572f7c2a54",
   "metadata": {},
   "outputs": [],
   "source": []
  },
  {
   "cell_type": "code",
   "execution_count": null,
   "id": "96a79a54-9f5c-47e7-9a66-7e74301ef68f",
   "metadata": {},
   "outputs": [],
   "source": [
    "# Q6"
   ]
  },
  {
   "cell_type": "markdown",
   "id": "77ca230e-0fc0-41ff-a422-8dc72a725643",
   "metadata": {},
   "source": [
    "In pandas, the \"window\" function refers to the ability to perform operations on a specific subset of data defined by a window or a group of consecutive elements within a DataFrame or Series. This concept is particularly useful for analyzing time-series data and other ordered data where we need to compute metrics over a rolling or expanding window.\n",
    "\n",
    "In pandas, you can utilize the rolling and expanding functions to create window objects that can be used in combination with various aggregation functions to calculate statistics for these defined windows.\n",
    "\n",
    "1) rolling function:\n",
    "The rolling function is used to create a rolling window view of the data, where you can perform calculations on fixed-size windows (with a specified window size) that slide through the data.\n",
    "\n",
    "2) expanding function:\n",
    "The expanding function is used to create an expanding window view of the data, where the window size grows with each new element. This means that all the data up to the current element is included in the window."
   ]
  },
  {
   "cell_type": "code",
   "execution_count": null,
   "id": "d211bb91-6b94-40e9-a111-3871b56eff77",
   "metadata": {},
   "outputs": [],
   "source": []
  },
  {
   "cell_type": "code",
   "execution_count": null,
   "id": "90a30dc3-ef9f-4439-a456-414c4f441d2b",
   "metadata": {},
   "outputs": [],
   "source": [
    "# Q7"
   ]
  },
  {
   "cell_type": "code",
   "execution_count": 4,
   "id": "4920197e-8461-48a9-894f-da4875fa321b",
   "metadata": {},
   "outputs": [
    {
     "data": {
      "text/html": [
       "<div>\n",
       "<style scoped>\n",
       "    .dataframe tbody tr th:only-of-type {\n",
       "        vertical-align: middle;\n",
       "    }\n",
       "\n",
       "    .dataframe tbody tr th {\n",
       "        vertical-align: top;\n",
       "    }\n",
       "\n",
       "    .dataframe thead th {\n",
       "        text-align: right;\n",
       "    }\n",
       "</style>\n",
       "<table border=\"1\" class=\"dataframe\">\n",
       "  <thead>\n",
       "    <tr style=\"text-align: right;\">\n",
       "      <th></th>\n",
       "      <th>Month</th>\n",
       "      <th>Year</th>\n",
       "    </tr>\n",
       "  </thead>\n",
       "  <tbody>\n",
       "    <tr>\n",
       "      <th>1</th>\n",
       "      <td>7</td>\n",
       "      <td>2023</td>\n",
       "    </tr>\n",
       "  </tbody>\n",
       "</table>\n",
       "</div>"
      ],
      "text/plain": [
       "   Month  Year\n",
       "1      7  2023"
      ]
     },
     "execution_count": 4,
     "metadata": {},
     "output_type": "execute_result"
    }
   ],
   "source": [
    "from datetime import datetime\n",
    "\n",
    "today= datetime.now()\n",
    "date = pd.DataFrame({'Month': today.month, 'Year':today.year} , index=[1])\n",
    "date"
   ]
  },
  {
   "cell_type": "code",
   "execution_count": null,
   "id": "e7a14be4-1024-4ea0-a4ee-7efeff119db7",
   "metadata": {},
   "outputs": [],
   "source": []
  },
  {
   "cell_type": "code",
   "execution_count": null,
   "id": "4c67487e-78cc-47fc-8a30-f5a739ef3f64",
   "metadata": {},
   "outputs": [],
   "source": [
    "# Q8category"
   ]
  },
  {
   "cell_type": "code",
   "execution_count": 11,
   "id": "d3d37191-b436-4b7f-ad20-c344ca44b25c",
   "metadata": {},
   "outputs": [
    {
     "name": "stdin",
     "output_type": "stream",
     "text": [
      "Enter date1 (YYYY-MM-DD):\n",
      " 2023-07-25\n",
      "Enter date2 (YYYY-MM-DD):\n",
      " 2023-07-30\n"
     ]
    },
    {
     "name": "stdout",
     "output_type": "stream",
     "text": [
      "5 Days\t 0 Hours\t 0 Minute\n"
     ]
    }
   ],
   "source": [
    "date1 = input(\"Enter date1 (YYYY-MM-DD):\\n\")\n",
    "date2 = input(\"Enter date2 (YYYY-MM-DD):\\n\")\n",
    "try:\n",
    "    date1 = pd.to_datetime(date1)\n",
    "    date2 = pd.to_datetime(date2)\n",
    "    if date1<date2:\n",
    "        date1,date2 = date2, date1\n",
    "\n",
    "    time_diff = date1-date2\n",
    "    day_diff= time_diff.days\n",
    "    hour_diff = time_diff.seconds // 3600\n",
    "    minutes_diff = (time_diff.seconds // 60) % 60\n",
    "    print(f\"{day_diff} Days\\t {hour_diff} Hours\\t {minutes_diff} Minute\")\n",
    "except Exception as e:\n",
    "    print(e)"
   ]
  },
  {
   "cell_type": "code",
   "execution_count": null,
   "id": "ab82f57f-dedf-47a6-a635-eaa907e3c6d4",
   "metadata": {},
   "outputs": [],
   "source": []
  },
  {
   "cell_type": "code",
   "execution_count": null,
   "id": "4c1b5eeb-0ab4-447d-8d80-1defe334e538",
   "metadata": {},
   "outputs": [],
   "source": [
    "# Q9"
   ]
  },
  {
   "cell_type": "code",
   "execution_count": null,
   "id": "b760f67f-e953-4146-b349-1df217fe0f55",
   "metadata": {},
   "outputs": [],
   "source": [
    "file_path = input(\"Enter the CSV file path: \")\n",
    "column_name = input(\"Enter the column name to convert to categorical: \")\n",
    "category_order = input(\"Enter the category order (comma-separated): \").split(\",\")\n",
    "\n",
    "df2 = pd.read_csv(file_path)\n",
    "\n",
    "try:\n",
    "    df2[column_name] = pd.Categorical(df2[column_name], categories=category_order, ordered=True)\n",
    "\n",
    "    df2_sorted = df2.sort_values(by=[column_name])\n",
    "\n",
    "    print(\"\\nSorted Data:\")\n",
    "    print(df2_sorted)\n",
    "\n",
    "except KeyError:\n",
    "    print(f\"\\nError: Column '{column_name}' not found in the CSV file.\")\n",
    "\n"
   ]
  },
  {
   "cell_type": "code",
   "execution_count": null,
   "id": "f83cf2f9-d7c1-4908-bd1c-dbda10d0440c",
   "metadata": {},
   "outputs": [],
   "source": []
  },
  {
   "cell_type": "code",
   "execution_count": null,
   "id": "5027edb0-81b6-46b9-8855-56e444454a2b",
   "metadata": {},
   "outputs": [],
   "source": [
    "# Q10"
   ]
  },
  {
   "cell_type": "code",
   "execution_count": 3,
   "id": "88f55086-1d5d-43a2-acfe-cfcd48522dd4",
   "metadata": {},
   "outputs": [
    {
     "data": {
      "text/plain": [
       "<AxesSubplot: xlabel='Invoice Date'>"
      ]
     },
     "execution_count": 3,
     "metadata": {},
     "output_type": "execute_result"
    },
    {
     "data": {
      "image/png": "[encoded data removed]",
      "text/plain": [
       "<Figure size 640x480 with 1 Axes>"
      ]
     },
     "metadata": {},
     "output_type": "display_data"
    }
   ],
   "source": [
    "file_path1= input(\"Enter CSV filepath:\\n\")\n",
    "df3=pd.read_excel(\"file_path1\")\n",
    "df3.plot(x='Invoice Date' , y= 'Total Sales')"
   ]
  },
  {
   "cell_type": "code",
   "execution_count": null,
   "id": "007fa9e4-49aa-4802-b9f9-962a2669aa27",
   "metadata": {},
   "outputs": [],
   "source": []
  },
  {
   "cell_type": "code",
   "execution_count": null,
   "id": "a303ef54-94fc-4885-a495-8a80e6d80bcc",
   "metadata": {},
   "outputs": [],
   "source": [
    "# Q11"
   ]
  },
  {
   "cell_type": "code",
   "execution_count": 3,
   "id": "050eea8d-add7-4584-8e7d-9414d8e1e12f",
   "metadata": {},
   "outputs": [],
   "source": [
    "import csv\n",
    "\n",
    "student_info = [\n",
    "    (1, 85),\n",
    "    (2, 90),\n",
    "    (3, 80),\n",
    "    (4, 75),\n",
    "    (5, 85),\n",
    "    (6, 82),\n",
    "    (7, 78),\n",
    "    (8, 85),\n",
    "    (9, 90),\n",
    "    (10, 85),\n",
    "]\n",
    "\n",
    "with open(\"student_data.csv\" , 'w') as file:\n",
    "    writer = csv.writer(file)\n",
    "\n",
    "    writer.writerow([\"Student ID\", \"Test Score\"])\n",
    "\n",
    "    writer.writerows(student_info)\n",
    "   \n",
    "file_path2 = input(\"Enter CSV file path:\\n\")\n",
    "df4 = pd.read_csv(file_path2)\n",
    "try:\n",
    "    def stat(df):\n",
    "        result = pd.DataFrame({'Statistic': ['Mean' ,'Median', 'Mode'] , \n",
    "                               'Value': [df['Test Score'].mean(),df['Test Score'].median(), df['Test Score'].mode()]} )\n",
    "        return result;\n",
    "    df5= stat(df4)\n",
    "    print(df5)\n",
    "except Exception as e:\n",
    "    print(e)"
   ]
  },
  {
   "cell_type": "code",
   "execution_count": null,
   "id": "5bb691ce-40fa-4a97-a706-c8ebc65db60f",
   "metadata": {},
   "outputs": [],
   "source": []
  },
  {
   "cell_type": "code",
   "execution_count": null,
   "id": "d52750b1-7325-47a4-97ef-1c86a07e1c94",
   "metadata": {},
   "outputs": [],
   "source": []
  }
 ],
 "metadata": {
  "kernelspec": {
   "display_name": "Python 3 (ipykernel)",
   "language": "python",
   "name": "python3"
  },
  "language_info": {
   "codemirror_mode": {
    "name": "ipython",
    "version": 3
   },
   "file_extension": ".py",
   "mimetype": "text/x-python",
   "name": "python",
   "nbconvert_exporter": "python",
   "pygments_lexer": "ipython3",
   "version": "3.10.8"
  }
 },
 "nbformat": 4,
 "nbformat_minor": 5
}
