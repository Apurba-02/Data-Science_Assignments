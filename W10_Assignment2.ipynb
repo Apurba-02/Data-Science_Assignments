{
 "cells": [
  {
   "cell_type": "code",
   "execution_count": null,
   "id": "ea9479bb-0b08-4cef-b34c-729067f6384e",
   "metadata": {},
   "outputs": [],
   "source": [
    "# Q1 :-"
   ]
  },
  {
   "cell_type": "markdown",
   "id": "f277cb13-8899-4680-b343-7d7c76af1a48",
   "metadata": {},
   "source": [
    "The three most common measures of central tendency are the mean, median, and mode."
   ]
  },
  {
   "cell_type": "code",
   "execution_count": null,
   "id": "029adb7e-6880-44da-9591-b765cfb2b13c",
   "metadata": {},
   "outputs": [],
   "source": []
  },
  {
   "cell_type": "code",
   "execution_count": null,
   "id": "d5326a90-b742-420d-b45f-d989c30710cf",
   "metadata": {},
   "outputs": [],
   "source": [
    "# Q2 :-"
   ]
  },
  {
   "cell_type": "markdown",
   "id": "b1e86474-8d70-496d-8aa0-c27a353104b6",
   "metadata": {},
   "source": [
    "1) Mean is the average of all the values in a dataset. It is calculated by adding all the values and dividing by the number of values.\n",
    "\n",
    "2) Median is the middle value in a dataset when it is arranged in ascending or descending order. If there is an even number of values, the median is the average of the two middle values.\n",
    "\n",
    "3) Mode is the most frequent value in a dataset.\n",
    "\n",
    "Each measure of central tendency has its own advantages and disadvantages. The mean is the most commonly used measure of central tendency because it is easy to calculate and interpret. However, it can be affected by outliers, which are extreme values that are much larger or smaller than the rest of the data. The median is not affected by outliers, but it can be difficult to calculate if the dataset is not evenly distributed. The mode is the least affected by outliers, but it is not always a good representation of the data if there are multiple modes.\n",
    "\n",
    "The choice of which measure of central tendency to use depends on the specific data set and the purpose of the analysis.\n",
    "\n",
    "Here are some examples of when to use each measure of central tendency:\n",
    "\n",
    "1) Mean: The mean is the most appropriate measure of central tendency when the data is normally distributed, which means that it is symmetrical and bell-shaped.\n",
    "\n",
    "2) Median: The median is the most appropriate measure of central tendency when the data is not normally distributed, or when there are outliers.\n",
    "\n",
    "3) Mode: The mode is the most appropriate measure of central tendency when the data set has multiple modes."
   ]
  },
  {
   "cell_type": "code",
   "execution_count": null,
   "id": "b237c019-7f94-44a7-be89-1bb4414a7e62",
   "metadata": {},
   "outputs": [],
   "source": []
  },
  {
   "cell_type": "code",
   "execution_count": null,
   "id": "4027a2b8-fe26-4b6c-828d-17e2b9e1c989",
   "metadata": {},
   "outputs": [],
   "source": [
    "# Q3 :-"
   ]
  },
  {
   "cell_type": "code",
   "execution_count": 1,
   "id": "9c6a036f-9ddb-476f-953c-b34d3ff99447",
   "metadata": {},
   "outputs": [
    {
     "name": "stdout",
     "output_type": "stream",
     "text": [
      "Mean =  177.01875\n",
      "Median =  177.0\n",
      "Mode =  178\n"
     ]
    }
   ],
   "source": [
    "import numpy as np\n",
    "import statistics as st\n",
    "\n",
    "L = [178,177,176,177,178.2,178,175,179,180,175,178.9,176.2,177,172.5,178,176.5]\n",
    "print(\"Mean = \",np.mean(L))\n",
    "print(\"Median = \",np.median(L))\n",
    "print(\"Mode = \",st.mode(L))"
   ]
  },
  {
   "cell_type": "code",
   "execution_count": null,
   "id": "067a85e1-b7c3-42d4-819c-368f4c7f5d26",
   "metadata": {},
   "outputs": [],
   "source": []
  },
  {
   "cell_type": "code",
   "execution_count": null,
   "id": "fa049a3c-e36b-4996-ba7d-f5529b6e85d3",
   "metadata": {},
   "outputs": [],
   "source": [
    "# Q4 :-"
   ]
  },
  {
   "cell_type": "code",
   "execution_count": 2,
   "id": "a0890746-bf1f-45b8-81bc-1646d71ce570",
   "metadata": {},
   "outputs": [
    {
     "name": "stdout",
     "output_type": "stream",
     "text": [
      "Standard-deviation =  1.7885814036548633\n"
     ]
    }
   ],
   "source": [
    "print(\"Standard-deviation = \" , np.std(L))"
   ]
  },
  {
   "cell_type": "code",
   "execution_count": null,
   "id": "b6a5aba6-ff8a-4c12-86c3-8017d60e48c9",
   "metadata": {},
   "outputs": [],
   "source": []
  },
  {
   "cell_type": "code",
   "execution_count": null,
   "id": "9f8fe40c-cc25-419a-b57d-13ce58887afc",
   "metadata": {},
   "outputs": [],
   "source": [
    "# Q5 :-"
   ]
  },
  {
   "cell_type": "markdown",
   "id": "e72ce71c-b377-44c7-aa71-4c7ff3accb7a",
   "metadata": {},
   "source": [
    "Measures of dispersion are used to describe the spread of a dataset. They tell us how far apart the data points are from each other. The most common measures of dispersion are:\n",
    "\n",
    "1) Range: The range is the difference between the largest and smallest values in the dataset. It is the simplest measure of dispersion, but it is not very sensitive to outliers.\n",
    "\n",
    "2) Variance: The variance is a measure of how spread out the data points are around the mean. It is calculated by averaging the squared deviations from the mean.\n",
    "\n",
    "3) Standard deviation: The standard deviation is the square root of the variance. It is a more interpretable measure of dispersion than the variance because it is in the same units as the data.\n",
    "\n",
    "Here is an example of how these measures of dispersion can be used to describe the spread of a dataset.\n",
    "\n",
    "The heights of 10 students are 62 inches, 64 inches, 65 inches, 66 inches, 67 inches, 68 inches, 69 inches, 70 inches, 71 inches, and 72 inches.\n",
    "\n",
    "The range of this dataset is 10 inches (72 inches - 62 inches). The variance is 25 inches^2 (calculated by averaging the squared deviations from the mean). The standard deviation is 5 inches.\n",
    "\n",
    "The range tells us that the tallest student is 10 inches taller than the shortest student. The variance tells us that the data points are spread out an average of 25 inches from the mean. The standard deviation tells us that the data points are spread out an average of 5 inches from the mean.\n",
    "\n",
    "In general, a larger range indicates a greater spread of data, while a larger variance or standard deviation indicates a greater spread of data around the mean."
   ]
  },
  {
   "cell_type": "code",
   "execution_count": null,
   "id": "f8528217-e1a6-4562-9806-cf1b159dca34",
   "metadata": {},
   "outputs": [],
   "source": []
  },
  {
   "cell_type": "code",
   "execution_count": null,
   "id": "e319019b-5d3c-46b7-8120-dad826ed57d2",
   "metadata": {},
   "outputs": [],
   "source": [
    "# Q6 :-"
   ]
  },
  {
   "cell_type": "markdown",
   "id": "43475888-d209-4557-9237-38606b150810",
   "metadata": {},
   "source": [
    "A Venn diagram is a graphical representation used to illustrate the relationships and commonalities between different sets or groups of objects, elements, or concepts. It consists of overlapping circles or other shapes, each representing a different set, and the overlapping regions represent the intersections between those sets. Venn diagrams are often used in mathematics, logic, statistics, and various fields to visualize concepts related to set theory, logical relationships, and data classification.\n",
    "\n",
    "The key elements of a Venn diagram are:\n",
    "\n",
    "1) Circles or Shapes: Each circle or shape represents a separate set or category. The elements belonging to that set are enclosed within the boundary of the circle.\n",
    "\n",
    "2) Overlap Region: The overlapping regions of circles represent the intersection of the sets they represent. This area contains elements that belong to both sets.\n",
    "\n",
    "3) Non-Overlap Regions: The parts of the circles that do not overlap represent the elements unique to each set, i.e., those elements that are not shared with any other set."
   ]
  },
  {
   "cell_type": "code",
   "execution_count": null,
   "id": "387c3c8f-1bee-4b73-b763-083b17ecb71b",
   "metadata": {},
   "outputs": [],
   "source": []
  },
  {
   "cell_type": "code",
   "execution_count": null,
   "id": "70871b14-f844-4d27-8c0d-8b718a1bc43a",
   "metadata": {},
   "outputs": [],
   "source": [
    "# Q7 :-"
   ]
  },
  {
   "cell_type": "code",
   "execution_count": 7,
   "id": "93e161b0-2fa8-4688-97c4-619d59e8a4d6",
   "metadata": {},
   "outputs": [
    {
     "name": "stdout",
     "output_type": "stream",
     "text": [
      "union =  [ 0  2  3  4  5  6  7  8 10]\n",
      "intersection =  [2 6]\n"
     ]
    }
   ],
   "source": [
    "A = (2,3,4,5,6,7)\n",
    "B = (0,2,6,8,10)\n",
    "print(\"union = \",np.union1d(A,B))\n",
    "print(\"intersection = \",np.intersect1d(A,B))"
   ]
  },
  {
   "cell_type": "code",
   "execution_count": null,
   "id": "c2d14286-0edb-40e0-a4f2-122c8c1d5da2",
   "metadata": {},
   "outputs": [],
   "source": []
  },
  {
   "cell_type": "code",
   "execution_count": null,
   "id": "0d7024e7-6cb3-46ff-ac53-e920b39f422d",
   "metadata": {},
   "outputs": [],
   "source": [
    "# Q8 :-"
   ]
  },
  {
   "cell_type": "markdown",
   "id": "4f8e0852-1ef7-47d6-9435-eb9057af1d6a",
   "metadata": {},
   "source": [
    "Skewness is a statistical measure that quantifies the asymmetry of the probability distribution of a dataset. In other words, it helps you understand the shape of the data distribution and whether it is symmetrical or not. Skewness indicates the direction and extent to which the data points are concentrated on one side of the distribution compared to the other."
   ]
  },
  {
   "cell_type": "code",
   "execution_count": null,
   "id": "1b601f3b-86c3-44d0-9df9-4315b9ae0866",
   "metadata": {},
   "outputs": [],
   "source": []
  },
  {
   "cell_type": "code",
   "execution_count": null,
   "id": "1b790cdd-5445-4c0c-bbe7-3984017dadea",
   "metadata": {},
   "outputs": [],
   "source": [
    "# Q9 :-"
   ]
  },
  {
   "cell_type": "markdown",
   "id": "d09b159d-188a-4670-b978-d194f643bd55",
   "metadata": {},
   "source": [
    "in a right-skewed distribution, the median will be positioned to the left of the mean."
   ]
  },
  {
   "cell_type": "code",
   "execution_count": null,
   "id": "2e5499b2-958b-4acd-997d-2aa434217696",
   "metadata": {},
   "outputs": [],
   "source": []
  },
  {
   "cell_type": "code",
   "execution_count": null,
   "id": "4e4e675d-7721-4235-96ad-a03cb8883535",
   "metadata": {},
   "outputs": [],
   "source": [
    "# Q10 :-"
   ]
  },
  {
   "cell_type": "markdown",
   "id": "8c0245e8-2a39-4e5e-820a-03cc3b530efc",
   "metadata": {},
   "source": [
    "1) Covariance :\n",
    "\n",
    "Covariance measures the degree to which two variables change together. It indicates the direction of the linear relationship between two variables. If the covariance is positive, it means that when one variable increases, the other tends to increase as well. If the covariance is negative, it means that when one variable increases, the other tends to decrease. A covariance of zero indicates that there is no linear relationship between the variables.\n",
    "\n",
    "However, the magnitude of covariance doesn't provide a clear indication of the strength of the relationship, as it is influenced by the units of the variables. This can make it difficult to interpret the covariance value on its own.\n",
    "\n",
    "2) Correlation:\n",
    "\n",
    "Correlation is a standardized version of covariance. It measures the strength and direction of the linear relationship between two variables, but unlike covariance, correlation is unitless and falls within the range of -1 to 1. A correlation of +1 indicates a perfect positive linear relationship, -1 indicates a perfect negative linear relationship, and 0 indicates no linear relationship.\n",
    "\n",
    "Correlation is calculated by dividing the covariance of the two variables by the product of their standard deviations. This normalization allows for easier comparison of the strength of relationships between different pairs of variables, even if they have different units or scales.\n",
    "\n",
    "--->> Usage in Statistical Analysis:\n",
    "\n",
    "Both covariance and correlation are used in statistical analysis to understand relationships between variables:\n",
    "\n",
    "1) Covariance:\n",
    "\n",
    "a) Covariance can give an initial idea of whether two variables are related or not, but it doesn't provide a standardized measure of the strength of the relationship.\n",
    "b) It is used in portfolio analysis, where the covariance between the returns of different assets is analyzed to diversify investment risks.\n",
    "c) In some machine learning algorithms, covariance matrices are used for dimensionality reduction techniques like Principal Component Analysis (PCA).\n",
    "\n",
    "2) Correlation:\n",
    "\n",
    "a) Correlation is widely used to quantify the strength and direction of linear relationships between variables.\n",
    "b) It helps in identifying patterns and dependencies in data, which is crucial for making decisions and predictions.\n",
    "c) Correlation is used to analyze and visualize data, especially when dealing with multiple variables.\n",
    "d) In finance, correlation helps in understanding how the returns of different assets move in relation to each other.\n",
    "e) In medical research, correlation can be used to study the relationship between variables like diet and health outcomes."
   ]
  },
  {
   "cell_type": "code",
   "execution_count": null,
   "id": "307e1664-3eab-473a-8e82-fdc05b57cf88",
   "metadata": {},
   "outputs": [],
   "source": []
  },
  {
   "cell_type": "code",
   "execution_count": null,
   "id": "2c1c5e0f-49a7-4868-81c3-0ac5ebc388be",
   "metadata": {},
   "outputs": [],
   "source": [
    "# Q11 :-"
   ]
  },
  {
   "cell_type": "markdown",
   "id": "93439a0e-d40a-4854-9103-6c0881b10373",
   "metadata": {},
   "source": [
    "Sample Mean (x̄) = (Sum of all individual values) / (Number of values in the sample)\n",
    "\n",
    "Mathematically, it can be represented as:\n",
    "\n",
    "x̄ = (Σx) / n\n",
    "\n",
    "Where:\n",
    "\n",
    "x̄ is the sample mean.\n",
    "Σx represents the sum of all individual values in the sample.\n",
    "n is the number of values in the sample."
   ]
  },
  {
   "cell_type": "code",
   "execution_count": 8,
   "id": "4ad7ff13-7523-454a-a492-eb297c4ac856",
   "metadata": {},
   "outputs": [
    {
     "data": {
      "text/plain": [
       "2.9982786885245902"
      ]
     },
     "execution_count": 8,
     "metadata": {},
     "output_type": "execute_result"
    }
   ],
   "source": [
    "import seaborn as sns\n",
    "\n",
    "db = sns.load_dataset(\"tips\")\n",
    "samplemean_tip = sum(db[\"tip\"])/len(db[\"tip\"])\n",
    "samplemean_tip"
   ]
  },
  {
   "cell_type": "code",
   "execution_count": null,
   "id": "bf76254d-4ac0-4222-a466-f825b00022a8",
   "metadata": {},
   "outputs": [],
   "source": []
  },
  {
   "cell_type": "code",
   "execution_count": null,
   "id": "29cabbd2-71d7-4a7c-aef1-4a8a2f229d75",
   "metadata": {},
   "outputs": [],
   "source": [
    "# Q12 :-"
   ]
  },
  {
   "cell_type": "markdown",
   "id": "5c664bb3-c833-4198-9804-5172025abbf9",
   "metadata": {},
   "source": [
    "In a normal distribution, which is also known as a Gaussian distribution or bell curve, the three most common measures of central tendency are the mean, median, and mode. In a perfectly symmetrical normal distribution, these measures of central tendency coincide and are all equal. However, in some cases, due to skewness or other factors, they might differ slightly\n",
    "\n",
    "Mean (μ) = Median = Mode"
   ]
  },
  {
   "cell_type": "code",
   "execution_count": null,
   "id": "25b7f289-182f-4bd1-b584-77ce26816aa6",
   "metadata": {},
   "outputs": [],
   "source": []
  },
  {
   "cell_type": "code",
   "execution_count": null,
   "id": "01c453bd-b178-4ab1-b258-17ac1e3a8792",
   "metadata": {},
   "outputs": [],
   "source": [
    "# Q13 :-"
   ]
  },
  {
   "cell_type": "markdown",
   "id": "7e1fe13f-c297-412a-a338-f5122a8b6fd6",
   "metadata": {},
   "source": [
    "Covariance and correlation are both measures that describe the relationship between two variables in a dataset. However, they serve slightly different purposes and have different properties:\n",
    "\n",
    "1) Covariance:\n",
    "\n",
    "Covariance measures the extent to which two variables change together. If the values of one variable tend to increase as the values of the other variable increase, their covariance will be positive. If one decreases as the other increases, their covariance will be negative.\n",
    "Covariance is not standardized and is influenced by the units of the variables. Larger values indicate a stronger relationship, but the exact interpretation can be difficult without context.\n",
    "The formula for the covariance between two variables X and Y, given a dataset of n points, is: \n",
    "Cov(X, Y) = Σ[(Xᵢ - X̄)(Yᵢ - Ȳ)] / (n - 1), where X̄ and Ȳ are the sample means of X and Y, respectively.\n",
    "The range of covariance is not bounded, which makes it hard to compare the strength of relationships across different datasets.\n",
    "\n",
    "2) Correlation:\n",
    "\n",
    "Correlation is a standardized measure that not only tells you whether two variables change together but also the strength and direction of their relationship.\n",
    "Correlation coefficients are always between -1 and 1. A correlation of +1 indicates a perfect positive linear relationship, -1 indicates a perfect negative linear relationship, and 0 indicates no linear relationship.\n",
    "Correlation is unitless and is not affected by changes in scale or translation of the variables.\n",
    "The most common form of correlation is the Pearson correlation coefficient, which is calculated using the formula: Correlation(X, Y) = Cov(X, Y) / (σₓ * σᵧ), where σₓ and σᵧ are the standard deviations of X and Y, respectively."
   ]
  },
  {
   "cell_type": "code",
   "execution_count": null,
   "id": "0b9c347e-963e-4d4c-b326-27b723155c7c",
   "metadata": {},
   "outputs": [],
   "source": []
  },
  {
   "cell_type": "code",
   "execution_count": null,
   "id": "aa2d4f75-4056-408b-bb3b-09133d2145d2",
   "metadata": {},
   "outputs": [],
   "source": [
    "# Q14 :-"
   ]
  },
  {
   "cell_type": "markdown",
   "id": "6e9cf258-bec8-4a26-b552-5ed8bdc50eee",
   "metadata": {},
   "source": [
    "Outliers are data points that are significantly different from the rest of the data in a dataset. They can have a substantial impact on measures of central tendency (like mean, median, and mode) and measures of dispersion (like range, variance, and standard deviation). Here's how outliers can affect these measures, along with an example:\n",
    "\n",
    "Example:\n",
    "Let's say we have a dataset representing the ages of a group of individuals: [25, 28, 30, 31, 32, 33, 35, 40, 42, 55]. In this dataset, the majority of ages are clustered around 30-35, but there's one outlier at age 55.\n",
    "\n",
    "--->> Measures of Central Tendency:\n",
    "\n",
    "1) Mean:\n",
    "The mean is sensitive to outliers because it takes into account the values of all data points. In this example, the mean age would be (25 + 28 + 30 + 31 + 32 + 33 + 35 + 40 + 42 + 55) / 10 = 35.1. The outlier at age 55 significantly pulls up the mean, making it higher than the majority of the ages.\n",
    "\n",
    "2) Median: \n",
    "The median is less affected by outliers. In this case, the median age would be the middle value, which is 33. The outlier doesn't influence the median as much as it does the mean.\n",
    "\n",
    "3) Mode:\n",
    "The mode, which is the most frequently occurring value, remains unaffected by the outlier in this example. There is no significant impact on the mode, as none of the ages repeat more than once.\n",
    "\n",
    "--->> Measures of Dispersion:\n",
    "\n",
    "4) Range:\n",
    "The range, which is the difference between the maximum and minimum values, is significantly affected by outliers. In this case, the range would be 55 - 25 = 30. The outlier contributes to the larger range.\n",
    "\n",
    "5) Variance and Standard Deviation: \n",
    "Both variance and standard deviation are sensitive to outliers. These measures quantify the spread of data around the mean. The presence of an outlier with a large deviation from the mean can lead to an inflated variance and standard deviation. This can potentially result in the spread of data being misinterpreted."
   ]
  }
 ],
 "metadata": {
  "kernelspec": {
   "display_name": "Python 3 (ipykernel)",
   "language": "python",
   "name": "python3"
  },
  "language_info": {
   "codemirror_mode": {
    "name": "ipython",
    "version": 3
   },
   "file_extension": ".py",
   "mimetype": "text/x-python",
   "name": "python",
   "nbconvert_exporter": "python",
   "pygments_lexer": "ipython3",
   "version": "3.10.8"
  }
 },
 "nbformat": 4,
 "nbformat_minor": 5
}
