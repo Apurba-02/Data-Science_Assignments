{
 "cells": [
  {
   "cell_type": "code",
   "execution_count": null,
   "id": "7cd5900b-6a75-4b49-9745-04345ffe6b41",
   "metadata": {},
   "outputs": [],
   "source": [
    "# Q1"
   ]
  },
  {
   "cell_type": "markdown",
   "id": "93e55d99-122c-4d64-b040-3cd4b6d9470b",
   "metadata": {},
   "source": [
    "A database is an organized collection of structured information, or data, typically stored electronically in a computer system.SQL\n",
    "\n",
    "SQL databases are relational, and NoSQL databases are non-relational. SQL databases use structured query language (SQL) and have a predefined schema. NoSQL databases have dynamic schemas for unstructured data. SQL databases are vertically scalable, while NoSQL databases are horizontally scalable.\n"
   ]
  },
  {
   "cell_type": "code",
   "execution_count": null,
   "id": "f09a011e-510c-4029-9bf8-01e8cb1a6f3b",
   "metadata": {},
   "outputs": [],
   "source": []
  },
  {
   "cell_type": "code",
   "execution_count": null,
   "id": "634bd31c-b12c-4e8c-9935-86adf430035d",
   "metadata": {},
   "outputs": [],
   "source": [
    "# Q2"
   ]
  },
  {
   "cell_type": "markdown",
   "id": "e3b5624a-3322-45a3-bc7f-5a10c2e9528b",
   "metadata": {},
   "source": [
    "Data Definition Language(DDL) is a subset of SQL and a part of DBMS(Database Management System). DDL consist of Commands to commands like CREATE, ALTER, TRUNCATE and DROP. These commands are used to create or modify the tables in SQL."
   ]
  },
  {
   "cell_type": "markdown",
   "id": "06a40b31-51a9-4b4b-8e93-01f0d79aed54",
   "metadata": {},
   "source": [
    "CREATE :\n",
    "This command is used to create a new table or database in SQL. The user has to give information like table name, column names, and their datatypes."
   ]
  },
  {
   "cell_type": "markdown",
   "id": "44ac7468-7f0d-4e42-af25-b4252a831e13",
   "metadata": {},
   "source": [
    "Example :\n",
    "\n",
    "CREATE DATABASE Test1;\n",
    "CREATE TABLE Test1.Info(Name VARCHAR(20) , Roll INT , Marks FLOAT);"
   ]
  },
  {
   "cell_type": "markdown",
   "id": "df4322cf-1645-4bca-a0a6-c0a142f6107b",
   "metadata": {},
   "source": [
    "ALTER :\n",
    "This command is used to add, delete or change columns in the existing table. The user needs to know the existing table name and can do add, delete or modify tasks easily."
   ]
  },
  {
   "cell_type": "markdown",
   "id": "f1d84930-a60b-45a9-a025-15b36fdcc8bd",
   "metadata": {},
   "source": [
    "Example :\n",
    "\n",
    "ALTER TABLE Test1.Info ADD (CGPA FLOAT)"
   ]
  },
  {
   "cell_type": "markdown",
   "id": "f5461e28-7de5-4efe-b847-2472071d6ac9",
   "metadata": {},
   "source": [
    "TRUNCATE :\n",
    "This command is used to remove all rows from the table, but the structure of the table still exists."
   ]
  },
  {
   "cell_type": "markdown",
   "id": "7d13f352-4e07-4897-9955-92026e31f151",
   "metadata": {},
   "source": [
    "Example :\n",
    "    \n",
    "TRUNCATE TABLE Test1.Info;   "
   ]
  },
  {
   "cell_type": "markdown",
   "id": "3d80bb48-42b0-4989-97b2-3dc2bc3d041a",
   "metadata": {},
   "source": [
    "DROP :\n",
    "This command is used to remove an existing table along with its structure from the Database."
   ]
  },
  {
   "cell_type": "markdown",
   "id": "aa9ab503-d5ec-4b1b-9f1f-9f26b3ff8fbd",
   "metadata": {},
   "source": [
    "Example :\n",
    "    \n",
    "DROP TABLE Test1.Info ;"
   ]
  },
  {
   "cell_type": "code",
   "execution_count": null,
   "id": "1d48096e-e882-408c-b81b-ee7ff9a6c63e",
   "metadata": {},
   "outputs": [],
   "source": []
  },
  {
   "cell_type": "code",
   "execution_count": null,
   "id": "4e778d83-b177-42ee-8c61-20ae025f2962",
   "metadata": {},
   "outputs": [],
   "source": [
    "# Q3"
   ]
  },
  {
   "cell_type": "markdown",
   "id": "9399e141-5580-4652-9ff7-e533d4b4a301",
   "metadata": {},
   "source": [
    "The SQL commands that deal with the manipulation of data present in the database belong to DML or Data Manipulation Language"
   ]
  },
  {
   "cell_type": "markdown",
   "id": "9e26546c-8195-4267-8171-64be2ee1de66",
   "metadata": {},
   "source": [
    "INSERT: It is used to insert data into a table.\n",
    "\n",
    "Example :\n",
    "\n",
    "CREATE TABLE Test1.Info(Name VARCHAR(20) , Roll INT , Marks FLOAT);\n",
    "INSERT INTO Test1.Info VALUES('Apurbs' , 92 , 95.5);\n",
    "INSERT INTO Test1.Info VALUES('Sumit' , 93 , 85.5);\n",
    "INSERT INTO Test1.Info VALUES('Aniket' , 94 , 75.5);"
   ]
  },
  {
   "cell_type": "markdown",
   "id": "5860386c-d0fc-4349-a404-68b1bae0655e",
   "metadata": {},
   "source": [
    "UPDATE: It is used to update existing data within a table.\n",
    "\n",
    "Example :\n",
    "\n",
    "UPDATE Test1.Info SET Name ='Apurba Maji';"
   ]
  },
  {
   "cell_type": "markdown",
   "id": "0d410563-da92-4455-bf52-4577a6895100",
   "metadata": {},
   "source": [
    "DELETE: It is used to delete records from a database table.\n",
    "\n",
    "Example:\n",
    "\n",
    "DELETE FROM Test1.Info WHERE ROLL=93 ;"
   ]
  },
  {
   "cell_type": "code",
   "execution_count": null,
   "id": "87644177-6a99-4775-b2f4-267688eee296",
   "metadata": {},
   "outputs": [],
   "source": []
  },
  {
   "cell_type": "code",
   "execution_count": null,
   "id": "856ef55b-2335-4562-b52a-085b535fabc0",
   "metadata": {},
   "outputs": [],
   "source": [
    "# Q4"
   ]
  },
  {
   "cell_type": "markdown",
   "id": "f4c75033-0abe-41e0-abbf-93741cff07c8",
   "metadata": {},
   "source": [
    "We can define DQL as follows it is a component of SQL statement that allows getting data from the database and imposing order upon it. It includes the SELECT statement."
   ]
  },
  {
   "cell_type": "markdown",
   "id": "518d7c44-7019-45a5-a0ce-06d16bbbc2e3",
   "metadata": {},
   "source": [
    "SELECT: It is used to retrieve data from the database.\n",
    "\n",
    "Example :\n",
    "\n",
    "SELECT* FROM Info;"
   ]
  },
  {
   "cell_type": "code",
   "execution_count": null,
   "id": "c2454c77-11d4-43a4-a407-fa080ca40dcf",
   "metadata": {},
   "outputs": [],
   "source": []
  },
  {
   "cell_type": "code",
   "execution_count": null,
   "id": "2a420ffd-1651-4c57-b58f-ef3cf892365e",
   "metadata": {},
   "outputs": [],
   "source": [
    "# Q5"
   ]
  },
  {
   "cell_type": "markdown",
   "id": "585df60a-e656-4561-b73b-58a7acb72cd1",
   "metadata": {},
   "source": [
    "A primary key is used to ensure that data in the specific column is unique. A column cannot have NULL values.\n",
    "\n",
    "A foreign key is a column or group of columns in a relational database table that provides a link between data in two tables."
   ]
  },
  {
   "cell_type": "code",
   "execution_count": null,
   "id": "910211a4-05d1-45fd-8c1b-eac66387c36b",
   "metadata": {},
   "outputs": [],
   "source": []
  },
  {
   "cell_type": "code",
   "execution_count": null,
   "id": "b0877a6a-cd4d-4fc6-a5ab-c001268b37ff",
   "metadata": {},
   "outputs": [],
   "source": [
    "# Q6"
   ]
  },
  {
   "cell_type": "markdown",
   "id": "c130dd5c-21f4-40bc-b8a8-6c5e6a874ca0",
   "metadata": {},
   "source": [
    "import mysql.connector\n",
    "mydb = mysql.connector.connect(\n",
    "    host=\"localhost\" ,\n",
    "    user=\"root\",\n",
    "    password=\"apurba@2002\"\n",
    ")\n",
    "mycursor =mydb.cursor()\n",
    "mycursor.execute(\"CREATE DATABASE if not exists test1\")\n",
    "mydb.close()"
   ]
  },
  {
   "cell_type": "code",
   "execution_count": null,
   "id": "f90b1c70-62b8-46a6-ba6b-9ae21c1b8222",
   "metadata": {},
   "outputs": [],
   "source": []
  },
  {
   "cell_type": "code",
   "execution_count": null,
   "id": "d8076a92-3879-42a9-8cfb-67b73985d764",
   "metadata": {},
   "outputs": [],
   "source": [
    "# Q7"
   ]
  },
  {
   "cell_type": "markdown",
   "id": "9f10e17c-ccc4-4a6e-a7c9-608ce51ce508",
   "metadata": {},
   "source": [
    "In an SQL query, the clauses are generally executed in the following order:\n",
    "\n",
    "1) FROM: Specifies the tables or views from which the data will be retrieved.\n",
    "\n",
    "2) WHERE: Filters the rows based on specified conditions.\n",
    "\n",
    "3) GROUP BY: Groups the rows based on one or more columns.\n",
    "\n",
    "4) HAVING: Filters the groups based on specified conditions.\n",
    "\n",
    "5) SELECT: Retrieves the columns or expressions specified in the query.\n",
    "\n",
    "6) DISTINCT: Eliminates duplicate rows from the result set.\n",
    "\n",
    "7) ORDER BY: Sorts the result set based on specified columns or expressions.\n",
    "\n",
    "8) LIMIT/OFFSET: Limits the number of rows returned or skips a certain number of rows."
   ]
  }
 ],
 "metadata": {
  "kernelspec": {
   "display_name": "Python 3 (ipykernel)",
   "language": "python",
   "name": "python3"
  },
  "language_info": {
   "codemirror_mode": {
    "name": "ipython",
    "version": 3
   },
   "file_extension": ".py",
   "mimetype": "text/x-python",
   "name": "python",
   "nbconvert_exporter": "python",
   "pygments_lexer": "ipython3",
   "version": "3.10.8"
  }
 },
 "nbformat": 4,
 "nbformat_minor": 5
}
