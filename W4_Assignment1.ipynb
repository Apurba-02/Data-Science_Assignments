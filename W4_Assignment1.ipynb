{
 "cells": [
  {
   "cell_type": "code",
   "execution_count": null,
   "id": "4ed58ac8-809f-4197-87a1-716845c64367",
   "metadata": {},
   "outputs": [],
   "source": [
    "# Q1"
   ]
  },
  {
   "cell_type": "code",
   "execution_count": null,
   "id": "20563d11-a1f9-43ca-b35c-bc18c59c9429",
   "metadata": {},
   "outputs": [],
   "source": [
    "''' Classes are user-defined data types that act as the blueprint for individual objects,\n",
    "    attributes and methods. Objects are instances of a class created with specifically defined data. '''"
   ]
  },
  {
   "cell_type": "code",
   "execution_count": 1,
   "id": "673dbf3a-a9af-4374-afdc-c6a55178a93b",
   "metadata": {},
   "outputs": [
    {
     "data": {
      "text/plain": [
       "'Apurba'"
      ]
     },
     "execution_count": 1,
     "metadata": {},
     "output_type": "execute_result"
    }
   ],
   "source": [
    "# Example :\n",
    "\n",
    "class student :\n",
    "    def __init__(self ,name , roll , stream):\n",
    "        self.Name = name\n",
    "        self.Roll_No = roll\n",
    "        self.Stream = stream \n",
    "    \n",
    "stud1 = student(\"Apurba\" , 18700222092 , \"IT\")\n",
    "stud1.Name"
   ]
  },
  {
   "cell_type": "code",
   "execution_count": null,
   "id": "bbaa47c9-1baf-4896-861b-dc24fec4277f",
   "metadata": {},
   "outputs": [],
   "source": [
    "''' Here , student is a calss and stud1 is an object of class student'''"
   ]
  },
  {
   "cell_type": "code",
   "execution_count": null,
   "id": "01ccfbe5-c725-4076-82f3-2046af2fe9d5",
   "metadata": {},
   "outputs": [],
   "source": []
  },
  {
   "cell_type": "code",
   "execution_count": null,
   "id": "2ba9b9c8-db95-4480-8569-a1cac3e07733",
   "metadata": {},
   "outputs": [],
   "source": [
    "# Q2"
   ]
  },
  {
   "cell_type": "code",
   "execution_count": null,
   "id": "50b1d7a3-02b2-4973-8b38-b8121a5ff7eb",
   "metadata": {},
   "outputs": [],
   "source": [
    "\"\"\" The four pillars of OOPs are : data abstraction, encapsulation, inheritance, and polymorphism. \"\"\""
   ]
  },
  {
   "cell_type": "code",
   "execution_count": null,
   "id": "fc0b79b6-bbd9-4abc-82d3-b7aedd5fcae2",
   "metadata": {},
   "outputs": [],
   "source": []
  },
  {
   "cell_type": "code",
   "execution_count": null,
   "id": "d8ee1848-d35c-48ca-b6bc-675d27f87bbd",
   "metadata": {},
   "outputs": [],
   "source": [
    "# Q3"
   ]
  },
  {
   "cell_type": "code",
   "execution_count": null,
   "id": "6b88d181-997a-4e7d-a972-d7ad96816c35",
   "metadata": {},
   "outputs": [],
   "source": [
    "''' The __init__() function is used to create a class constructor.Constructors are used to \n",
    "    initializing the object’s state. '''"
   ]
  },
  {
   "cell_type": "code",
   "execution_count": 1,
   "id": "e8222776-a4d6-4580-ad4a-1890d46ef2cd",
   "metadata": {},
   "outputs": [
    {
     "data": {
      "text/plain": [
       "'Apurba'"
      ]
     },
     "execution_count": 1,
     "metadata": {},
     "output_type": "execute_result"
    }
   ],
   "source": [
    "# Example :\n",
    "\n",
    "class student :\n",
    "    def __init__(self ,name , roll , stream):\n",
    "        self.Name = name\n",
    "        self.Roll_No = roll\n",
    "        self.Stream = stream \n",
    "    \n",
    "stud1 = student(\"Apurba\" , 18700222092 , \"IT\")\n",
    "stud1.Name"
   ]
  },
  {
   "cell_type": "code",
   "execution_count": null,
   "id": "0fbea7f1-3030-4524-8aa9-e23163552536",
   "metadata": {},
   "outputs": [],
   "source": []
  },
  {
   "cell_type": "code",
   "execution_count": null,
   "id": "fa50b077-a274-4d7b-9b5b-2cb3bba0c1ff",
   "metadata": {},
   "outputs": [],
   "source": [
    "# Q4"
   ]
  },
  {
   "cell_type": "code",
   "execution_count": null,
   "id": "3d93d9ae-5e35-4681-a68f-fa64bbe2288c",
   "metadata": {},
   "outputs": [],
   "source": [
    "\"\"\" The self variable is used to represent the instance of the class. It works as a reference to the object.\n",
    "    Python uses the self parameter to refer to instance attributes and methods of class. \"\"\""
   ]
  },
  {
   "cell_type": "code",
   "execution_count": null,
   "id": "6a83464d-84c1-4236-aa3f-0522ce6e96a1",
   "metadata": {},
   "outputs": [],
   "source": []
  },
  {
   "cell_type": "code",
   "execution_count": null,
   "id": "dc5d57ec-5048-49b3-90c4-2b40fe4b34a6",
   "metadata": {},
   "outputs": [],
   "source": [
    "# Q5"
   ]
  },
  {
   "cell_type": "code",
   "execution_count": null,
   "id": "636342b8-16c4-4dd2-b1bf-81283f7bb8ed",
   "metadata": {},
   "outputs": [],
   "source": [
    "''' Inheritance is the concept in OOPs in which one class inherits the attributes and methods of another class. \n",
    "    The class whose properties and methods are inherited is known as the Parent class. \n",
    "    And the class that inherits the properties from the parent class is the Child '''"
   ]
  },
  {
   "cell_type": "code",
   "execution_count": null,
   "id": "079b889c-47b3-4d4d-8b22-ec097fb29850",
   "metadata": {},
   "outputs": [],
   "source": [
    "# Example of single inheritance :"
   ]
  },
  {
   "cell_type": "code",
   "execution_count": null,
   "id": "2da47046-60fb-4516-810b-f5af26933a26",
   "metadata": {},
   "outputs": [
    {
     "name": "stdout",
     "output_type": "stream",
     "text": [
      "It is inherited from grand father1\n"
     ]
    }
   ],
   "source": [
    "class grand_father1:\n",
    "    def func1(self):\n",
    "        print(\"It is inherited from grand father1\")\n",
    "    \n",
    "class father1(grand_father1): \n",
    "    pass\n",
    "\n",
    "obj1 = father1()\n",
    "obj1.func1()"
   ]
  },
  {
   "cell_type": "code",
   "execution_count": null,
   "id": "277877a8-56ee-4087-9bef-8ad59305b4ca",
   "metadata": {},
   "outputs": [],
   "source": [
    "# Example of multiple inheritance :"
   ]
  },
  {
   "cell_type": "code",
   "execution_count": 3,
   "id": "4f69e97b-569d-4f7f-a29d-33a40805c78a",
   "metadata": {},
   "outputs": [
    {
     "name": "stdout",
     "output_type": "stream",
     "text": [
      "It is inherited from grand father2\n",
      "It is inherited from grand_mother1\n"
     ]
    }
   ],
   "source": [
    "class grand_father2:\n",
    "    def func1(self):\n",
    "        print(\"It is inherited from grand father2\")\n",
    "    \n",
    "class grand_mother1():   \n",
    "    def func2(self):\n",
    "        print(\"It is inherited from grand_mother1\")\n",
    "     \n",
    "class father2(grand_father2 , grand_mother1):   # Multiple inheritance\n",
    "    pass\n",
    "\n",
    "obj2 = father2()\n",
    "obj2.func1()\n",
    "obj2.func2()"
   ]
  },
  {
   "cell_type": "code",
   "execution_count": null,
   "id": "445d02be-2078-4467-8436-3f11a1098802",
   "metadata": {},
   "outputs": [],
   "source": [
    "# Example of multi-level inheritance :"
   ]
  },
  {
   "cell_type": "code",
   "execution_count": 4,
   "id": "006da850-cad8-4320-8fdb-4e4e30f5d917",
   "metadata": {},
   "outputs": [
    {
     "name": "stdout",
     "output_type": "stream",
     "text": [
      "It is inherited from grand father3\n",
      "It is inherited from father3\n",
      "I am a child\n"
     ]
    }
   ],
   "source": [
    "class grand_father3:\n",
    "    def func1(self):\n",
    "        print(\"It is inherited from grand father3\")\n",
    "    \n",
    "class father3(grand_father3): \n",
    "    def func2(self):\n",
    "        print(\"It is inherited from father3\")\n",
    "\n",
    "class child(father3):  \n",
    "    def func3(self):\n",
    "        print(\"I am a child\")\n",
    "\n",
    "son = child()\n",
    "son.func1()\n",
    "son.func2()\n",
    "son.func3()"
   ]
  },
  {
   "cell_type": "code",
   "execution_count": null,
   "id": "02ac1a62-a206-47ca-a58e-d10881752c9b",
   "metadata": {},
   "outputs": [],
   "source": [
    "# Example of Hierarchical Inheritance :"
   ]
  },
  {
   "cell_type": "code",
   "execution_count": 5,
   "id": "5e77b1f9-23f3-4071-9a59-dbb6921a414d",
   "metadata": {},
   "outputs": [
    {
     "name": "stdout",
     "output_type": "stream",
     "text": [
      "It is inherited from parent\n",
      "I am child 1\n",
      "It is inherited from parent\n",
      "I am child 2\n"
     ]
    }
   ],
   "source": [
    "class parent:\n",
    "    def func1(self):\n",
    "        print (\"It is inherited from parent\")\n",
    "class child1(parent):\n",
    "    def func2(self):\n",
    "        print(\"I am child 1\")\n",
    "\n",
    "class child2(parent):\n",
    "    def func3(self):\n",
    "        print(\"I am child 2\")\n",
    "        \n",
    "obj3 = child1()\n",
    "obj4 = child2()\n",
    "obj3.func1()\n",
    "obj3.func2()\n",
    "obj4.func1()\n",
    "obj4.func3()\n"
   ]
  },
  {
   "cell_type": "code",
   "execution_count": null,
   "id": "9c892b9d-d5c0-4360-887b-1c10920a74d2",
   "metadata": {},
   "outputs": [],
   "source": [
    "# Example of Hybrid inheritance :"
   ]
  },
  {
   "cell_type": "code",
   "execution_count": 8,
   "id": "24628c3e-54cb-466f-b8c8-5dd224c23dc7",
   "metadata": {},
   "outputs": [
    {
     "name": "stdout",
     "output_type": "stream",
     "text": [
      "It is inherited from grand father\n",
      "It is inherited from grand mother\n",
      "It is inheritef from father\n",
      "It is inherited from mother\n",
      "I am a child\n"
     ]
    }
   ],
   "source": [
    "class grand_father:\n",
    "    def func1(self):\n",
    "        print(\"It is inherited from grand father\")\n",
    "    \n",
    "class grand_mother():   \n",
    "    def func2(self):\n",
    "        print(\"It is inherited from grand mother\")\n",
    "     \n",
    "class father(grand_father,grand_mother):\n",
    "    def func3(self):\n",
    "        print(\"It is inheritef from father\")\n",
    "    \n",
    "class mother():\n",
    "    def func4(self):\n",
    "        print(\"It is inherited from mother\")\n",
    "    \n",
    "class child3(father , mother):\n",
    "    def func5(self):\n",
    "        print(\"I am a child\")\n",
    "\n",
    "        \n",
    "obj5 = child3()\n",
    "obj5.func1()\n",
    "obj5.func2()\n",
    "obj5.func3()\n",
    "obj5.func4()\n",
    "obj5.func5()"
   ]
  },
  {
   "cell_type": "code",
   "execution_count": null,
   "id": "fdd452d0-b3b9-4f32-aea6-166a57d75e48",
   "metadata": {},
   "outputs": [],
   "source": []
  }
 ],
 "metadata": {
  "kernelspec": {
   "display_name": "Python 3 (ipykernel)",
   "language": "python",
   "name": "python3"
  },
  "language_info": {
   "codemirror_mode": {
    "name": "ipython",
    "version": 3
   },
   "file_extension": ".py",
   "mimetype": "text/x-python",
   "name": "python",
   "nbconvert_exporter": "python",
   "pygments_lexer": "ipython3",
   "version": "3.10.8"
  }
 },
 "nbformat": 4,
 "nbformat_minor": 5
}
