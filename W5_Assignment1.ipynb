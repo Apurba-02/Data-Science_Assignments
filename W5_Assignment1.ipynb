{
 "cells": [
  {
   "cell_type": "code",
   "execution_count": null,
   "id": "19d17db7-1ed6-4a2f-9190-564737821ed4",
   "metadata": {},
   "outputs": [],
   "source": [
    "# Q1"
   ]
  },
  {
   "cell_type": "code",
   "execution_count": null,
   "id": "dc05386c-aace-45cb-a43e-956c0e9146c9",
   "metadata": {},
   "outputs": [],
   "source": [
    "''' Errors that occur at runtime (after passing the syntax test) are called exceptions or logical errors.\n",
    "\n",
    "\n",
    "    A syntax error occurs when the structure of a program does not conform to the rules of the programming \n",
    "    language. Syntax errors are usually detected by the compiler or interpreter when the program is being \n",
    "    compiled or executed, and they prevent the program from running\n",
    "    \n",
    "    \n",
    "    An exception is an abnormal event that occurs during the execution of a program. \n",
    "    Exceptions are usually caused by runtime errors, such as dividing by zero, trying to access an element \n",
    "    in an array with an out-of-bounds index, or trying to access a file that does not exist.\n",
    "    Exceptions are not syntax errors, but they can still prevent the program from running if they\n",
    "    are not handled properly. '''"
   ]
  },
  {
   "cell_type": "code",
   "execution_count": null,
   "id": "02fb35ea-6b9c-4b87-919b-dbd23e67249e",
   "metadata": {},
   "outputs": [],
   "source": []
  },
  {
   "cell_type": "code",
   "execution_count": null,
   "id": "ca92d1fe-7c64-4e8b-bcb1-39df1faf42b4",
   "metadata": {},
   "outputs": [],
   "source": [
    "# Q2"
   ]
  },
  {
   "cell_type": "code",
   "execution_count": null,
   "id": "453938e8-a4e9-46d4-afa1-ddeae04bead8",
   "metadata": {},
   "outputs": [],
   "source": [
    "\"\"\" When an exception occurred, if you don’t handle it, the program terminates abruptly \n",
    "    and the code past the line that caused the exception will not get executed. \"\"\""
   ]
  },
  {
   "cell_type": "code",
   "execution_count": 3,
   "id": "5fd6156e-933e-4cdf-a9f6-239ccba8120c",
   "metadata": {},
   "outputs": [
    {
     "ename": "ZeroDivisionError",
     "evalue": "division by zero",
     "output_type": "error",
     "traceback": [
      "\u001b[0;31m---------------------------------------------------------------------------\u001b[0m",
      "\u001b[0;31mZeroDivisionError\u001b[0m                         Traceback (most recent call last)",
      "Cell \u001b[0;32mIn[3], line 4\u001b[0m\n\u001b[1;32m      1\u001b[0m \u001b[38;5;66;03m# Example :\u001b[39;00m\n\u001b[1;32m      3\u001b[0m a\u001b[38;5;241m=\u001b[39m \u001b[38;5;241m10\u001b[39m\n\u001b[0;32m----> 4\u001b[0m \u001b[43ma\u001b[49m\u001b[38;5;241;43m/\u001b[39;49m\u001b[38;5;241;43m0\u001b[39;49m\n",
      "\u001b[0;31mZeroDivisionError\u001b[0m: division by zero"
     ]
    }
   ],
   "source": [
    "# Example :\n",
    "\n",
    "a= 10\n",
    "a/0"
   ]
  },
  {
   "cell_type": "code",
   "execution_count": null,
   "id": "d6a71258-a6ef-47f3-9efc-399ea2307ce7",
   "metadata": {},
   "outputs": [],
   "source": []
  },
  {
   "cell_type": "code",
   "execution_count": null,
   "id": "1047f8cb-0387-4aef-b679-c61dc87e2536",
   "metadata": {},
   "outputs": [],
   "source": [
    "# Q3"
   ]
  },
  {
   "cell_type": "code",
   "execution_count": null,
   "id": "28094bd1-a518-43a5-8874-afc379793af0",
   "metadata": {},
   "outputs": [],
   "source": [
    "''' The try and except block in Python is used to catch and handle exceptions '''"
   ]
  },
  {
   "cell_type": "code",
   "execution_count": 8,
   "id": "6a1cd3cb-7ae5-4b69-a339-e2994a36abeb",
   "metadata": {},
   "outputs": [
    {
     "name": "stdout",
     "output_type": "stream",
     "text": [
      "name 'file1' is not defined\n"
     ]
    }
   ],
   "source": [
    "# Example :\n",
    "\n",
    "try :\n",
    "    with open(file1.txt , \"r\") as f:\n",
    "        f.read()\n",
    "except Exception as e:\n",
    "    print(e)"
   ]
  },
  {
   "cell_type": "code",
   "execution_count": null,
   "id": "3c51b28d-9faa-484a-9760-86241c54d7e2",
   "metadata": {},
   "outputs": [],
   "source": []
  },
  {
   "cell_type": "code",
   "execution_count": null,
   "id": "0e4a2bf7-767e-484d-8df9-cde07eec0bfb",
   "metadata": {},
   "outputs": [],
   "source": [
    "# Q4"
   ]
  },
  {
   "cell_type": "code",
   "execution_count": 18,
   "id": "3e2551e0-a8c3-418a-bc21-bf83625f4c61",
   "metadata": {},
   "outputs": [
    {
     "name": "stdin",
     "output_type": "stream",
     "text": [
      " 7\n",
      " 4\n"
     ]
    },
    {
     "name": "stdout",
     "output_type": "stream",
     "text": [
      "your result is 1.75\n"
     ]
    }
   ],
   "source": [
    "# try and else :\n",
    "\n",
    "try:\n",
    "    x= int(input())\n",
    "    y= int(input())\n",
    "    z=x/y\n",
    "except Exception as e:\n",
    "    print(e)\n",
    "else:\n",
    "    print(\"your result is\" , z)\n"
   ]
  },
  {
   "cell_type": "code",
   "execution_count": 24,
   "id": "f9ae83e9-ed37-4826-890b-c02645ea4835",
   "metadata": {},
   "outputs": [
    {
     "name": "stdin",
     "output_type": "stream",
     "text": [
      " 3\n",
      " 8\n"
     ]
    },
    {
     "name": "stdout",
     "output_type": "stream",
     "text": [
      "your result is 0.375\n",
      "try with more Numbers\n"
     ]
    }
   ],
   "source": [
    "# try and finally :\n",
    "\n",
    "try:\n",
    "    x= int(input())\n",
    "    y= int(input())\n",
    "    z=x/y\n",
    "except Exception as e:\n",
    "    print(e)\n",
    "else:\n",
    "    print(\"your result is\" , z)\n",
    "finally:\n",
    "    print(\"try with more Numbers\")\n"
   ]
  },
  {
   "cell_type": "code",
   "execution_count": 5,
   "id": "96482e56-d239-47d3-aa1f-2fd205c12062",
   "metadata": {},
   "outputs": [
    {
     "ename": "ValueError",
     "evalue": "String can't be changed into integer",
     "output_type": "error",
     "traceback": [
      "\u001b[0;31m---------------------------------------------------------------------------\u001b[0m",
      "\u001b[0;31mValueError\u001b[0m                                Traceback (most recent call last)",
      "Cell \u001b[0;32mIn[5], line 6\u001b[0m\n\u001b[1;32m      5\u001b[0m \u001b[38;5;28;01mtry\u001b[39;00m:\n\u001b[0;32m----> 6\u001b[0m \tnum \u001b[38;5;241m=\u001b[39m \u001b[38;5;28;43mint\u001b[39;49m\u001b[43m(\u001b[49m\u001b[43ms\u001b[49m\u001b[43m)\u001b[49m\n\u001b[1;32m      7\u001b[0m \u001b[38;5;28;01mexcept\u001b[39;00m \u001b[38;5;167;01mValueError\u001b[39;00m:\n",
      "\u001b[0;31mValueError\u001b[0m: invalid literal for int() with base 10: 'apple'",
      "\nDuring handling of the above exception, another exception occurred:\n",
      "\u001b[0;31mValueError\u001b[0m                                Traceback (most recent call last)",
      "Cell \u001b[0;32mIn[5], line 8\u001b[0m\n\u001b[1;32m      6\u001b[0m \tnum \u001b[38;5;241m=\u001b[39m \u001b[38;5;28mint\u001b[39m(s)\n\u001b[1;32m      7\u001b[0m \u001b[38;5;28;01mexcept\u001b[39;00m \u001b[38;5;167;01mValueError\u001b[39;00m:\n\u001b[0;32m----> 8\u001b[0m \t\u001b[38;5;28;01mraise\u001b[39;00m \u001b[38;5;167;01mValueError\u001b[39;00m(\u001b[38;5;124m\"\u001b[39m\u001b[38;5;124mString can\u001b[39m\u001b[38;5;124m'\u001b[39m\u001b[38;5;124mt be changed into integer\u001b[39m\u001b[38;5;124m\"\u001b[39m)\n",
      "\u001b[0;31mValueError\u001b[0m: String can't be changed into integer"
     ]
    }
   ],
   "source": [
    "# try and raise\n",
    "\n",
    "s = 'apple'\n",
    "\n",
    "try:\n",
    "\tnum = int(s)\n",
    "except ValueError:\n",
    "\traise ValueError(\"String can't be changed into integer\")\n"
   ]
  },
  {
   "cell_type": "code",
   "execution_count": null,
   "id": "f5468ad6-e1e1-4b2a-938a-0aae46173cec",
   "metadata": {},
   "outputs": [],
   "source": []
  },
  {
   "cell_type": "code",
   "execution_count": null,
   "id": "60ae4b92-f9bb-42be-b3c6-aa3a81f44a0c",
   "metadata": {},
   "outputs": [],
   "source": [
    "# Q5"
   ]
  },
  {
   "cell_type": "code",
   "execution_count": null,
   "id": "1e23288a-781b-4f14-891c-9c282a9da9fc",
   "metadata": {},
   "outputs": [],
   "source": [
    "\"\"\" Basically, custom exceptions are used to customize the exception according to user needs.\n",
    "    In simple words, we can say that a User-Defined Exception or custom exception is creating your own exception\n",
    "    class. In Python, we can define custom exceptions by creating a new class that is derived from \n",
    "    the built-in Exception class. \n",
    "    \n",
    "    Having custom exceptions - tailored to your specific use cases and that you can raise and catch \n",
    "    in specific circumstances - can make your code much more readable and robust, and reduce the amount\n",
    "    of code you write later to try and figure out what exactly went wrong.\"\"\""
   ]
  },
  {
   "cell_type": "code",
   "execution_count": 7,
   "id": "88402948-72f3-44e5-ae8d-a1874ce9a807",
   "metadata": {},
   "outputs": [
    {
     "name": "stdin",
     "output_type": "stream",
     "text": [
      "Enter your age : 20\n"
     ]
    },
    {
     "name": "stdout",
     "output_type": "stream",
     "text": [
      "Eligible to vote\n"
     ]
    }
   ],
   "source": [
    "# Custom Exception :\n",
    "\n",
    "class invalid_age(Exception) :\n",
    "    def __init__(self , msg):\n",
    "        self.msg = msg\n",
    "        \n",
    "def validate_voter(age):\n",
    "    if(age<0):\n",
    "        raise invalid_age(\"Enterd age cannot be less than zero\")\n",
    "    elif(age>180):\n",
    "        raise invalid_age(\"Entered age is vary high\")\n",
    "    elif(age>=18 and age<=180):\n",
    "        print(\"Eligible to vote\")\n",
    "    else:\n",
    "        print(\"Not eligible to vote!\")\n",
    "        \n",
    "try:\n",
    "    n = int(input(\"Enter your age :\"))\n",
    "    validate_voter(n)\n",
    "except invalid_age as e:\n",
    "    print(e)\n",
    "    "
   ]
  },
  {
   "cell_type": "code",
   "execution_count": null,
   "id": "f2fefa86-1393-4e4f-b290-5470736e11ca",
   "metadata": {},
   "outputs": [],
   "source": []
  },
  {
   "cell_type": "code",
   "execution_count": null,
   "id": "4ffc65fc-7270-4810-85bb-6505c9d391e3",
   "metadata": {},
   "outputs": [],
   "source": [
    "# Q6"
   ]
  },
  {
   "cell_type": "code",
   "execution_count": 6,
   "id": "2cf38823-a89d-4763-9f2f-060486dad496",
   "metadata": {},
   "outputs": [
    {
     "name": "stdin",
     "output_type": "stream",
     "text": [
      "Enter your age : -12\n"
     ]
    },
    {
     "name": "stdout",
     "output_type": "stream",
     "text": [
      "Enterd age cannot be less than zero\n"
     ]
    }
   ],
   "source": [
    "# Custom Exception :\n",
    "\n",
    "class invalid_age(Exception) :\n",
    "    def __init__(self , msg):\n",
    "        self.msg = msg\n",
    "        \n",
    "def validate_voter(age):\n",
    "    if(age<0):\n",
    "        raise invalid_age(\"Enterd age cannot be less than zero\")\n",
    "    elif(age>180):\n",
    "        raise invalid_age(\"Entered age is vary high\")\n",
    "    elif(age>=18 and age<=180):\n",
    "        print(\"Eligible to vote\")\n",
    "    else:\n",
    "        print(\"Not eligible to vote!\")\n",
    "        \n",
    "try:\n",
    "    n = int(input(\"Enter your age :\"))\n",
    "    validate_voter(n)\n",
    "except invalid_age as e:\n",
    "    print(e)\n",
    "    "
   ]
  }
 ],
 "metadata": {
  "kernelspec": {
   "display_name": "Python 3 (ipykernel)",
   "language": "python",
   "name": "python3"
  },
  "language_info": {
   "codemirror_mode": {
    "name": "ipython",
    "version": 3
   },
   "file_extension": ".py",
   "mimetype": "text/x-python",
   "name": "python",
   "nbconvert_exporter": "python",
   "pygments_lexer": "ipython3",
   "version": "3.10.8"
  }
 },
 "nbformat": 4,
 "nbformat_minor": 5
}
